{
  "cells": [
    {
      "cell_type": "markdown",
      "metadata": {
        "id": "OP9fNhPqbBgH"
      },
      "source": [
        "![wompi](Wompi.png)\n",
        "# **Prueba Técnica - Especialista analítica de negocio**\n",
        "## Prueba Analítica: *Análisis de segmentación de comercios*\n",
        "### Cientifico de Datos:\n",
        "\n",
        "* Daniel Felipe Pérez Grajales . dfperezg@unal.edu.co<br>\n",
        "\n",
        "<br><br>\n",
        "\n",
        "\n",
        "---\n",
        "<br>\n",
        "\n",
        "**Objetivo:**\n",
        "\n",
        "Realizar un análisis de segmentación de comercios a partir de datos transaccionales, identificando grupos con comportamientos similares y detectando oportunidades comerciales dentros de la industria.\n",
        "\n",
        "**Instrucciones**\n",
        "\n",
        "Se te entrega un archivo *payments_datasets.csv* con información de transacciones de pago Deberás:\n",
        "\n",
        "1. Construir métricas a nivel de comercio como: número de transacciones, ticket promedio, tasa de aprobación y distribución de medios de pago.\n",
        "\n",
        "2. Preparar el conjunto de datos para clustering, estandarizando variables y seleccionando las más relevantes para la segmentación.\n",
        "\n",
        "3. Aplicar una técnica de clustering.\n",
        "\n",
        "4. Analizar y describir los clusters, resaltando similitudes y diferencias entre ellos.\n",
        "\n",
        "5. Detectar oportunidades comerciales dentro de cada industrial(merchant_ciiu), comparando comercios con caracteristicas similares pero diferencias marcadas en el uso de medios de pago.\n",
        "\n",
        "**Entregables**\n",
        "\n",
        "Debes entregar un archivo Jupyter Notebook (.ipynb) funcional que cumpla con estos pasos:\n",
        "\n",
        "\n",
        "* Carga del dataset.  \n",
        "* Cálculo de métricas por comercio.\n",
        "* Ejecución del algoritmo de clustering y elección del número óptimo de clusters.\n",
        "* Tabla de oportunidades comerciales mostrando pares de comercios comparables con brechas significativas en uso de medios de pago.\n",
        "* Conclusiones y recomendaciones orientadas a negocio.\n",
        "\n",
        "\n",
        "\n",
        "--------\n",
        "\n",
        "<br>\n",
        "Solución Análisis de segmentación:\n",
        "\n",
        "0. Carga de Módulos.<br>\n",
        "1. Carga del dataset.<br>\n",
        "2. Cálculo de métricas por comercio.<br>\n",
        "3. Ejecución del algoritmo de clustering y elección del número óptimo de clusters.<br>\n",
        "4. Tabla de oportunidades comerciales mostrando pares de comercios comparables con brechas significativas en uso de medios de pago.<br>\n",
        "5. Conclusiones y recomendaciones orientadas a negocio."
      ]
    },
    {
      "cell_type": "markdown",
      "metadata": {
        "id": "BNGjZjcScNVs"
      },
      "source": [
        "### o. Carga de Modulos requeridos"
      ]
    },
    {
      "cell_type": "code",
      "execution_count": 1,
      "metadata": {
        "id": "SH0I_TNTcMpn"
      },
      "outputs": [],
      "source": [
        "# Tratamiento de datos\n",
        "# ==============================================================================\n",
        "import numpy as np\n",
        "import pandas as pd\n",
        "import statsmodels.api as sm\n",
        "\n",
        "# Gráficos\n",
        "# ==============================================================================\n",
        "import matplotlib.pyplot as plt\n",
        "import matplotlib.font_manager\n",
        "from matplotlib import style\n",
        "style.use('ggplot') or plt.style.use('ggplot')\n",
        "\n",
        "# Preprocesado y modelado clusterin\n",
        "# ==============================================================================\n",
        "from sklearn.metrics import pairwise_distances\n",
        "from sklearn.preprocessing import scale\n",
        "\n",
        "# Configuración warnings\n",
        "# ==============================================================================\n",
        "import warnings\n",
        "warnings.filterwarnings('ignore')"
      ]
    },
    {
      "cell_type": "markdown",
      "metadata": {
        "id": "S2oW0vXwccoT"
      },
      "source": [
        "### 1. Carga del dataset."
      ]
    },
    {
      "cell_type": "code",
      "execution_count": 2,
      "metadata": {
        "colab": {
          "base_uri": "https://localhost:8080/"
        },
        "id": "olAtXW5ZcbLM",
        "outputId": "01672b34-1e00-46bc-e22e-a6d0607cb991"
      },
      "outputs": [
        {
          "name": "stdout",
          "output_type": "stream",
          "text": [
            "(12000, 8)\n"
          ]
        },
        {
          "data": {
            "text/html": [
              "<div>\n",
              "<style scoped>\n",
              "    .dataframe tbody tr th:only-of-type {\n",
              "        vertical-align: middle;\n",
              "    }\n",
              "\n",
              "    .dataframe tbody tr th {\n",
              "        vertical-align: top;\n",
              "    }\n",
              "\n",
              "    .dataframe thead th {\n",
              "        text-align: right;\n",
              "    }\n",
              "</style>\n",
              "<table border=\"1\" class=\"dataframe\">\n",
              "  <thead>\n",
              "    <tr style=\"text-align: right;\">\n",
              "      <th></th>\n",
              "      <th>id</th>\n",
              "      <th>merchant_id</th>\n",
              "      <th>merchant_name</th>\n",
              "      <th>merchant_ciiu</th>\n",
              "      <th>amount_in_cents</th>\n",
              "      <th>created_date</th>\n",
              "      <th>payment_method_type</th>\n",
              "      <th>status</th>\n",
              "    </tr>\n",
              "  </thead>\n",
              "  <tbody>\n",
              "    <tr>\n",
              "      <th>0</th>\n",
              "      <td>1000000</td>\n",
              "      <td>1040</td>\n",
              "      <td>Comercio_1040</td>\n",
              "      <td>G4741</td>\n",
              "      <td>78240</td>\n",
              "      <td>2025-05-08 08:02:36</td>\n",
              "      <td>NEQUI</td>\n",
              "      <td>APPROVED</td>\n",
              "    </tr>\n",
              "    <tr>\n",
              "      <th>1</th>\n",
              "      <td>1000001</td>\n",
              "      <td>1007</td>\n",
              "      <td>Comercio_1007</td>\n",
              "      <td>I5610</td>\n",
              "      <td>21469</td>\n",
              "      <td>2025-04-03 20:33:29</td>\n",
              "      <td>BANCOLOMBIA</td>\n",
              "      <td>APPROVED</td>\n",
              "    </tr>\n",
              "    <tr>\n",
              "      <th>2</th>\n",
              "      <td>1000002</td>\n",
              "      <td>1001</td>\n",
              "      <td>Comercio_1001</td>\n",
              "      <td>G4711</td>\n",
              "      <td>73617</td>\n",
              "      <td>2025-06-27 15:29:33</td>\n",
              "      <td>PSE</td>\n",
              "      <td>APPROVED</td>\n",
              "    </tr>\n",
              "    <tr>\n",
              "      <th>3</th>\n",
              "      <td>1000003</td>\n",
              "      <td>1047</td>\n",
              "      <td>Comercio_1047</td>\n",
              "      <td>G4761</td>\n",
              "      <td>40190</td>\n",
              "      <td>2025-04-05 00:05:00</td>\n",
              "      <td>PSE</td>\n",
              "      <td>REFUNDED</td>\n",
              "    </tr>\n",
              "    <tr>\n",
              "      <th>4</th>\n",
              "      <td>1000004</td>\n",
              "      <td>1017</td>\n",
              "      <td>Comercio_1017</td>\n",
              "      <td>G4773</td>\n",
              "      <td>107172</td>\n",
              "      <td>2025-06-24 21:22:58</td>\n",
              "      <td>NEQUI</td>\n",
              "      <td>APPROVED</td>\n",
              "    </tr>\n",
              "  </tbody>\n",
              "</table>\n",
              "</div>"
            ],
            "text/plain": [
              "        id  merchant_id  merchant_name merchant_ciiu  amount_in_cents  \\\n",
              "0  1000000         1040  Comercio_1040         G4741            78240   \n",
              "1  1000001         1007  Comercio_1007         I5610            21469   \n",
              "2  1000002         1001  Comercio_1001         G4711            73617   \n",
              "3  1000003         1047  Comercio_1047         G4761            40190   \n",
              "4  1000004         1017  Comercio_1017         G4773           107172   \n",
              "\n",
              "          created_date payment_method_type    status  \n",
              "0  2025-05-08 08:02:36               NEQUI  APPROVED  \n",
              "1  2025-04-03 20:33:29         BANCOLOMBIA  APPROVED  \n",
              "2  2025-06-27 15:29:33                 PSE  APPROVED  \n",
              "3  2025-04-05 00:05:00                 PSE  REFUNDED  \n",
              "4  2025-06-24 21:22:58               NEQUI  APPROVED  "
            ]
          },
          "execution_count": 2,
          "metadata": {},
          "output_type": "execute_result"
        }
      ],
      "source": [
        "df_trans_comer= pd.read_csv(r'./payments_dataset.csv', sep=',')\n",
        "print(df_trans_comer.shape)\n",
        "df_trans_comer.head()"
      ]
    },
    {
      "cell_type": "markdown",
      "metadata": {},
      "source": [
        "* ID\n",
        "* ID del comerciante\n",
        "* Nombre del comerciante\n",
        "* CII del comerciante\n",
        "* Importe en centavos\n",
        "* Fecha de creación\n",
        "* Tipo de método de pago\n",
        "* Estado"
      ]
    },
    {
      "cell_type": "code",
      "execution_count": 3,
      "metadata": {},
      "outputs": [
        {
          "data": {
            "text/html": [
              "<div>\n",
              "<style scoped>\n",
              "    .dataframe tbody tr th:only-of-type {\n",
              "        vertical-align: middle;\n",
              "    }\n",
              "\n",
              "    .dataframe tbody tr th {\n",
              "        vertical-align: top;\n",
              "    }\n",
              "\n",
              "    .dataframe thead th {\n",
              "        text-align: right;\n",
              "    }\n",
              "</style>\n",
              "<table border=\"1\" class=\"dataframe\">\n",
              "  <thead>\n",
              "    <tr style=\"text-align: right;\">\n",
              "      <th></th>\n",
              "      <th>id</th>\n",
              "      <th>merchant_id</th>\n",
              "      <th>merchant_name</th>\n",
              "      <th>merchant_ciiu</th>\n",
              "      <th>amount_in_cents</th>\n",
              "      <th>created_date</th>\n",
              "      <th>payment_method_type</th>\n",
              "      <th>status</th>\n",
              "    </tr>\n",
              "  </thead>\n",
              "  <tbody>\n",
              "    <tr>\n",
              "      <th>count</th>\n",
              "      <td>1.200000e+04</td>\n",
              "      <td>12000.000000</td>\n",
              "      <td>12000</td>\n",
              "      <td>12000</td>\n",
              "      <td>1.200000e+04</td>\n",
              "      <td>12000</td>\n",
              "      <td>11280</td>\n",
              "      <td>12000</td>\n",
              "    </tr>\n",
              "    <tr>\n",
              "      <th>unique</th>\n",
              "      <td>NaN</td>\n",
              "      <td>NaN</td>\n",
              "      <td>50</td>\n",
              "      <td>10</td>\n",
              "      <td>NaN</td>\n",
              "      <td>11998</td>\n",
              "      <td>5</td>\n",
              "      <td>3</td>\n",
              "    </tr>\n",
              "    <tr>\n",
              "      <th>top</th>\n",
              "      <td>NaN</td>\n",
              "      <td>NaN</td>\n",
              "      <td>Comercio_1043</td>\n",
              "      <td>G4741</td>\n",
              "      <td>NaN</td>\n",
              "      <td>2025-06-30 19:13:32</td>\n",
              "      <td>NEQUI</td>\n",
              "      <td>APPROVED</td>\n",
              "    </tr>\n",
              "    <tr>\n",
              "      <th>freq</th>\n",
              "      <td>NaN</td>\n",
              "      <td>NaN</td>\n",
              "      <td>271</td>\n",
              "      <td>1294</td>\n",
              "      <td>NaN</td>\n",
              "      <td>2</td>\n",
              "      <td>2504</td>\n",
              "      <td>10528</td>\n",
              "    </tr>\n",
              "    <tr>\n",
              "      <th>mean</th>\n",
              "      <td>1.006000e+06</td>\n",
              "      <td>1024.834000</td>\n",
              "      <td>NaN</td>\n",
              "      <td>NaN</td>\n",
              "      <td>7.808565e+04</td>\n",
              "      <td>NaN</td>\n",
              "      <td>NaN</td>\n",
              "      <td>NaN</td>\n",
              "    </tr>\n",
              "    <tr>\n",
              "      <th>std</th>\n",
              "      <td>3.464246e+03</td>\n",
              "      <td>14.418776</td>\n",
              "      <td>NaN</td>\n",
              "      <td>NaN</td>\n",
              "      <td>8.228226e+04</td>\n",
              "      <td>NaN</td>\n",
              "      <td>NaN</td>\n",
              "      <td>NaN</td>\n",
              "    </tr>\n",
              "    <tr>\n",
              "      <th>min</th>\n",
              "      <td>1.000000e+06</td>\n",
              "      <td>1000.000000</td>\n",
              "      <td>NaN</td>\n",
              "      <td>NaN</td>\n",
              "      <td>4.060000e+03</td>\n",
              "      <td>NaN</td>\n",
              "      <td>NaN</td>\n",
              "      <td>NaN</td>\n",
              "    </tr>\n",
              "    <tr>\n",
              "      <th>25%</th>\n",
              "      <td>1.003000e+06</td>\n",
              "      <td>1012.000000</td>\n",
              "      <td>NaN</td>\n",
              "      <td>NaN</td>\n",
              "      <td>3.143700e+04</td>\n",
              "      <td>NaN</td>\n",
              "      <td>NaN</td>\n",
              "      <td>NaN</td>\n",
              "    </tr>\n",
              "    <tr>\n",
              "      <th>50%</th>\n",
              "      <td>1.006000e+06</td>\n",
              "      <td>1025.000000</td>\n",
              "      <td>NaN</td>\n",
              "      <td>NaN</td>\n",
              "      <td>5.084900e+04</td>\n",
              "      <td>NaN</td>\n",
              "      <td>NaN</td>\n",
              "      <td>NaN</td>\n",
              "    </tr>\n",
              "    <tr>\n",
              "      <th>75%</th>\n",
              "      <td>1.008999e+06</td>\n",
              "      <td>1037.000000</td>\n",
              "      <td>NaN</td>\n",
              "      <td>NaN</td>\n",
              "      <td>9.005725e+04</td>\n",
              "      <td>NaN</td>\n",
              "      <td>NaN</td>\n",
              "      <td>NaN</td>\n",
              "    </tr>\n",
              "    <tr>\n",
              "      <th>max</th>\n",
              "      <td>1.011999e+06</td>\n",
              "      <td>1049.000000</td>\n",
              "      <td>NaN</td>\n",
              "      <td>NaN</td>\n",
              "      <td>1.173820e+06</td>\n",
              "      <td>NaN</td>\n",
              "      <td>NaN</td>\n",
              "      <td>NaN</td>\n",
              "    </tr>\n",
              "  </tbody>\n",
              "</table>\n",
              "</div>"
            ],
            "text/plain": [
              "                  id   merchant_id  merchant_name merchant_ciiu  \\\n",
              "count   1.200000e+04  12000.000000          12000         12000   \n",
              "unique           NaN           NaN             50            10   \n",
              "top              NaN           NaN  Comercio_1043         G4741   \n",
              "freq             NaN           NaN            271          1294   \n",
              "mean    1.006000e+06   1024.834000            NaN           NaN   \n",
              "std     3.464246e+03     14.418776            NaN           NaN   \n",
              "min     1.000000e+06   1000.000000            NaN           NaN   \n",
              "25%     1.003000e+06   1012.000000            NaN           NaN   \n",
              "50%     1.006000e+06   1025.000000            NaN           NaN   \n",
              "75%     1.008999e+06   1037.000000            NaN           NaN   \n",
              "max     1.011999e+06   1049.000000            NaN           NaN   \n",
              "\n",
              "        amount_in_cents         created_date payment_method_type    status  \n",
              "count      1.200000e+04                12000               11280     12000  \n",
              "unique              NaN                11998                   5         3  \n",
              "top                 NaN  2025-06-30 19:13:32               NEQUI  APPROVED  \n",
              "freq                NaN                    2                2504     10528  \n",
              "mean       7.808565e+04                  NaN                 NaN       NaN  \n",
              "std        8.228226e+04                  NaN                 NaN       NaN  \n",
              "min        4.060000e+03                  NaN                 NaN       NaN  \n",
              "25%        3.143700e+04                  NaN                 NaN       NaN  \n",
              "50%        5.084900e+04                  NaN                 NaN       NaN  \n",
              "75%        9.005725e+04                  NaN                 NaN       NaN  \n",
              "max        1.173820e+06                  NaN                 NaN       NaN  "
            ]
          },
          "execution_count": 3,
          "metadata": {},
          "output_type": "execute_result"
        }
      ],
      "source": [
        "df_trans_comer.describe(include='all')"
      ]
    },
    {
      "cell_type": "markdown",
      "metadata": {},
      "source": [
        "### cantidad de comercios"
      ]
    },
    {
      "cell_type": "code",
      "execution_count": 8,
      "metadata": {},
      "outputs": [
        {
          "data": {
            "text/plain": [
              "50"
            ]
          },
          "execution_count": 8,
          "metadata": {},
          "output_type": "execute_result"
        }
      ],
      "source": [
        "df_trans_comer['merchant_name'].nunique()"
      ]
    },
    {
      "cell_type": "markdown",
      "metadata": {},
      "source": [
        "### cantidad de transacciones por comercios"
      ]
    },
    {
      "cell_type": "code",
      "execution_count": 6,
      "metadata": {},
      "outputs": [
        {
          "name": "stdout",
          "output_type": "stream",
          "text": [
            "merchant_name\n",
            "Comercio_1043    271\n",
            "Comercio_1041    264\n",
            "Comercio_1005    263\n",
            "Comercio_1036    262\n",
            "Comercio_1044    261\n",
            "Comercio_1008    259\n",
            "Comercio_1035    255\n",
            "Comercio_1028    255\n",
            "Comercio_1031    254\n",
            "Comercio_1019    252\n",
            "Comercio_1020    252\n",
            "Comercio_1049    251\n",
            "Comercio_1042    250\n",
            "Comercio_1029    250\n",
            "Comercio_1040    248\n",
            "Comercio_1030    247\n",
            "Comercio_1024    246\n",
            "Comercio_1026    245\n",
            "Comercio_1007    245\n",
            "Comercio_1023    244\n",
            "Comercio_1009    244\n",
            "Comercio_1034    244\n",
            "Comercio_1047    243\n",
            "Comercio_1039    242\n",
            "Comercio_1015    241\n",
            "Comercio_1048    240\n",
            "Comercio_1006    239\n",
            "Comercio_1002    237\n",
            "Comercio_1018    237\n",
            "Comercio_1021    236\n",
            "Comercio_1038    235\n",
            "Comercio_1003    234\n",
            "Comercio_1046    233\n",
            "Comercio_1037    233\n",
            "Comercio_1045    232\n",
            "Comercio_1033    231\n",
            "Comercio_1027    230\n",
            "Comercio_1012    230\n",
            "Comercio_1004    229\n",
            "Comercio_1011    229\n",
            "Comercio_1025    229\n",
            "Comercio_1010    226\n",
            "Comercio_1014    226\n",
            "Comercio_1017    225\n",
            "Comercio_1016    224\n",
            "Comercio_1032    223\n",
            "Comercio_1022    217\n",
            "Comercio_1001    215\n",
            "Comercio_1013    211\n",
            "Comercio_1000    211\n",
            "Name: count, dtype: int64\n",
            "\n",
            "merchant_name\n",
            "Comercio_1043    2.258333\n",
            "Comercio_1041    2.200000\n",
            "Comercio_1005    2.191667\n",
            "Comercio_1036    2.183333\n",
            "Comercio_1044    2.175000\n",
            "Comercio_1008    2.158333\n",
            "Comercio_1035    2.125000\n",
            "Comercio_1028    2.125000\n",
            "Comercio_1031    2.116667\n",
            "Comercio_1019    2.100000\n",
            "Comercio_1020    2.100000\n",
            "Comercio_1049    2.091667\n",
            "Comercio_1042    2.083333\n",
            "Comercio_1029    2.083333\n",
            "Comercio_1040    2.066667\n",
            "Comercio_1030    2.058333\n",
            "Comercio_1024    2.050000\n",
            "Comercio_1026    2.041667\n",
            "Comercio_1007    2.041667\n",
            "Comercio_1023    2.033333\n",
            "Comercio_1009    2.033333\n",
            "Comercio_1034    2.033333\n",
            "Comercio_1047    2.025000\n",
            "Comercio_1039    2.016667\n",
            "Comercio_1015    2.008333\n",
            "Comercio_1048    2.000000\n",
            "Comercio_1006    1.991667\n",
            "Comercio_1002    1.975000\n",
            "Comercio_1018    1.975000\n",
            "Comercio_1021    1.966667\n",
            "Comercio_1038    1.958333\n",
            "Comercio_1003    1.950000\n",
            "Comercio_1046    1.941667\n",
            "Comercio_1037    1.941667\n",
            "Comercio_1045    1.933333\n",
            "Comercio_1033    1.925000\n",
            "Comercio_1027    1.916667\n",
            "Comercio_1012    1.916667\n",
            "Comercio_1004    1.908333\n",
            "Comercio_1011    1.908333\n",
            "Comercio_1025    1.908333\n",
            "Comercio_1010    1.883333\n",
            "Comercio_1014    1.883333\n",
            "Comercio_1017    1.875000\n",
            "Comercio_1016    1.866667\n",
            "Comercio_1032    1.858333\n",
            "Comercio_1022    1.808333\n",
            "Comercio_1001    1.791667\n",
            "Comercio_1013    1.758333\n",
            "Comercio_1000    1.758333\n",
            "Name: proportion, dtype: float64\n"
          ]
        }
      ],
      "source": [
        "print(df_trans_comer['merchant_name'].value_counts(dropna=False))\n",
        "print()\n",
        "print(df_trans_comer['merchant_name'].value_counts(True,dropna=False)*100)"
      ]
    },
    {
      "cell_type": "markdown",
      "metadata": {},
      "source": [
        "### Canales de pago"
      ]
    },
    {
      "cell_type": "code",
      "execution_count": 9,
      "metadata": {},
      "outputs": [
        {
          "name": "stdout",
          "output_type": "stream",
          "text": [
            "payment_method_type\n",
            "NEQUI          2504\n",
            "BANCOLOMBIA    2468\n",
            "CARD           2288\n",
            "CASH           2243\n",
            "PSE            1777\n",
            "NaN             720\n",
            "Name: count, dtype: int64\n",
            "\n",
            "payment_method_type\n",
            "NEQUI          20.866667\n",
            "BANCOLOMBIA    20.566667\n",
            "CARD           19.066667\n",
            "CASH           18.691667\n",
            "PSE            14.808333\n",
            "NaN             6.000000\n",
            "Name: proportion, dtype: float64\n"
          ]
        }
      ],
      "source": [
        "print(df_trans_comer['payment_method_type'].value_counts(dropna=False))\n",
        "print()\n",
        "print(df_trans_comer['payment_method_type'].value_counts(True,dropna=False)*100)"
      ]
    },
    {
      "cell_type": "markdown",
      "metadata": {},
      "source": [
        "### Estados de las transacciones"
      ]
    },
    {
      "cell_type": "code",
      "execution_count": 11,
      "metadata": {},
      "outputs": [
        {
          "data": {
            "text/plain": [
              "id                      int64\n",
              "merchant_id             int64\n",
              "merchant_name          object\n",
              "merchant_ciiu          object\n",
              "amount_in_cents         int64\n",
              "created_date           object\n",
              "payment_method_type    object\n",
              "status                 object\n",
              "dtype: object"
            ]
          },
          "execution_count": 11,
          "metadata": {},
          "output_type": "execute_result"
        }
      ],
      "source": [
        "df_trans_comer.dtypes"
      ]
    },
    {
      "cell_type": "code",
      "execution_count": 10,
      "metadata": {},
      "outputs": [
        {
          "name": "stdout",
          "output_type": "stream",
          "text": [
            "status\n",
            "APPROVED    10528\n",
            "DECLINED     1212\n",
            "REFUNDED      260\n",
            "Name: count, dtype: int64\n",
            "\n",
            "status\n",
            "APPROVED    87.733333\n",
            "DECLINED    10.100000\n",
            "REFUNDED     2.166667\n",
            "Name: proportion, dtype: float64\n"
          ]
        }
      ],
      "source": [
        "print(df_trans_comer['status'].value_counts(dropna=False))\n",
        "print()\n",
        "print(df_trans_comer['status'].value_counts(True,dropna=False)*100)"
      ]
    },
    {
      "cell_type": "markdown",
      "metadata": {
        "id": "8M4a7dguc_lT"
      },
      "source": [
        "### 2. Cálculo de métricas por comercio.\n",
        "\n",
        "* número de transacciones.\n",
        "* ticket promedio.\n",
        "* tasa de aprobación y distribución de medios de pago."
      ]
    },
    {
      "cell_type": "code",
      "execution_count": 13,
      "metadata": {},
      "outputs": [
        {
          "data": {
            "text/html": [
              "<div>\n",
              "<style scoped>\n",
              "    .dataframe tbody tr th:only-of-type {\n",
              "        vertical-align: middle;\n",
              "    }\n",
              "\n",
              "    .dataframe tbody tr th {\n",
              "        vertical-align: top;\n",
              "    }\n",
              "\n",
              "    .dataframe thead th {\n",
              "        text-align: right;\n",
              "    }\n",
              "</style>\n",
              "<table border=\"1\" class=\"dataframe\">\n",
              "  <thead>\n",
              "    <tr style=\"text-align: right;\">\n",
              "      <th></th>\n",
              "      <th>id</th>\n",
              "      <th>merchant_id</th>\n",
              "      <th>merchant_name</th>\n",
              "      <th>merchant_ciiu</th>\n",
              "      <th>amount_in_cents</th>\n",
              "      <th>created_date</th>\n",
              "      <th>payment_method_type</th>\n",
              "      <th>status</th>\n",
              "    </tr>\n",
              "  </thead>\n",
              "  <tbody>\n",
              "    <tr>\n",
              "      <th>0</th>\n",
              "      <td>1000000</td>\n",
              "      <td>1040</td>\n",
              "      <td>Comercio_1040</td>\n",
              "      <td>G4741</td>\n",
              "      <td>78240</td>\n",
              "      <td>2025-05-08 08:02:36</td>\n",
              "      <td>NEQUI</td>\n",
              "      <td>APPROVED</td>\n",
              "    </tr>\n",
              "    <tr>\n",
              "      <th>1</th>\n",
              "      <td>1000001</td>\n",
              "      <td>1007</td>\n",
              "      <td>Comercio_1007</td>\n",
              "      <td>I5610</td>\n",
              "      <td>21469</td>\n",
              "      <td>2025-04-03 20:33:29</td>\n",
              "      <td>BANCOLOMBIA</td>\n",
              "      <td>APPROVED</td>\n",
              "    </tr>\n",
              "    <tr>\n",
              "      <th>2</th>\n",
              "      <td>1000002</td>\n",
              "      <td>1001</td>\n",
              "      <td>Comercio_1001</td>\n",
              "      <td>G4711</td>\n",
              "      <td>73617</td>\n",
              "      <td>2025-06-27 15:29:33</td>\n",
              "      <td>PSE</td>\n",
              "      <td>APPROVED</td>\n",
              "    </tr>\n",
              "  </tbody>\n",
              "</table>\n",
              "</div>"
            ],
            "text/plain": [
              "        id  merchant_id  merchant_name merchant_ciiu  amount_in_cents  \\\n",
              "0  1000000         1040  Comercio_1040         G4741            78240   \n",
              "1  1000001         1007  Comercio_1007         I5610            21469   \n",
              "2  1000002         1001  Comercio_1001         G4711            73617   \n",
              "\n",
              "          created_date payment_method_type    status  \n",
              "0  2025-05-08 08:02:36               NEQUI  APPROVED  \n",
              "1  2025-04-03 20:33:29         BANCOLOMBIA  APPROVED  \n",
              "2  2025-06-27 15:29:33                 PSE  APPROVED  "
            ]
          },
          "execution_count": 13,
          "metadata": {},
          "output_type": "execute_result"
        }
      ],
      "source": [
        "df_trans_comer.head(3)"
      ]
    },
    {
      "cell_type": "code",
      "execution_count": 12,
      "metadata": {},
      "outputs": [
        {
          "data": {
            "text/plain": [
              "id                      int64\n",
              "merchant_id             int64\n",
              "merchant_name          object\n",
              "merchant_ciiu          object\n",
              "amount_in_cents         int64\n",
              "created_date           object\n",
              "payment_method_type    object\n",
              "status                 object\n",
              "dtype: object"
            ]
          },
          "execution_count": 12,
          "metadata": {},
          "output_type": "execute_result"
        }
      ],
      "source": [
        "df_trans_comer.dtypes"
      ]
    },
    {
      "cell_type": "markdown",
      "metadata": {},
      "source": [
        "### construcción de variables fecha"
      ]
    },
    {
      "cell_type": "code",
      "execution_count": 14,
      "metadata": {},
      "outputs": [
        {
          "data": {
            "text/html": [
              "<div>\n",
              "<style scoped>\n",
              "    .dataframe tbody tr th:only-of-type {\n",
              "        vertical-align: middle;\n",
              "    }\n",
              "\n",
              "    .dataframe tbody tr th {\n",
              "        vertical-align: top;\n",
              "    }\n",
              "\n",
              "    .dataframe thead th {\n",
              "        text-align: right;\n",
              "    }\n",
              "</style>\n",
              "<table border=\"1\" class=\"dataframe\">\n",
              "  <thead>\n",
              "    <tr style=\"text-align: right;\">\n",
              "      <th></th>\n",
              "      <th>id</th>\n",
              "      <th>merchant_id</th>\n",
              "      <th>merchant_name</th>\n",
              "      <th>merchant_ciiu</th>\n",
              "      <th>amount_in_cents</th>\n",
              "      <th>created_date</th>\n",
              "      <th>payment_method_type</th>\n",
              "      <th>status</th>\n",
              "      <th>anio_mes</th>\n",
              "    </tr>\n",
              "  </thead>\n",
              "  <tbody>\n",
              "    <tr>\n",
              "      <th>0</th>\n",
              "      <td>1000000</td>\n",
              "      <td>1040</td>\n",
              "      <td>Comercio_1040</td>\n",
              "      <td>G4741</td>\n",
              "      <td>78240</td>\n",
              "      <td>2025-05-08 08:02:36</td>\n",
              "      <td>NEQUI</td>\n",
              "      <td>APPROVED</td>\n",
              "      <td>202505</td>\n",
              "    </tr>\n",
              "    <tr>\n",
              "      <th>1</th>\n",
              "      <td>1000001</td>\n",
              "      <td>1007</td>\n",
              "      <td>Comercio_1007</td>\n",
              "      <td>I5610</td>\n",
              "      <td>21469</td>\n",
              "      <td>2025-04-03 20:33:29</td>\n",
              "      <td>BANCOLOMBIA</td>\n",
              "      <td>APPROVED</td>\n",
              "      <td>202504</td>\n",
              "    </tr>\n",
              "    <tr>\n",
              "      <th>2</th>\n",
              "      <td>1000002</td>\n",
              "      <td>1001</td>\n",
              "      <td>Comercio_1001</td>\n",
              "      <td>G4711</td>\n",
              "      <td>73617</td>\n",
              "      <td>2025-06-27 15:29:33</td>\n",
              "      <td>PSE</td>\n",
              "      <td>APPROVED</td>\n",
              "      <td>202506</td>\n",
              "    </tr>\n",
              "    <tr>\n",
              "      <th>3</th>\n",
              "      <td>1000003</td>\n",
              "      <td>1047</td>\n",
              "      <td>Comercio_1047</td>\n",
              "      <td>G4761</td>\n",
              "      <td>40190</td>\n",
              "      <td>2025-04-05 00:05:00</td>\n",
              "      <td>PSE</td>\n",
              "      <td>REFUNDED</td>\n",
              "      <td>202504</td>\n",
              "    </tr>\n",
              "    <tr>\n",
              "      <th>4</th>\n",
              "      <td>1000004</td>\n",
              "      <td>1017</td>\n",
              "      <td>Comercio_1017</td>\n",
              "      <td>G4773</td>\n",
              "      <td>107172</td>\n",
              "      <td>2025-06-24 21:22:58</td>\n",
              "      <td>NEQUI</td>\n",
              "      <td>APPROVED</td>\n",
              "      <td>202506</td>\n",
              "    </tr>\n",
              "  </tbody>\n",
              "</table>\n",
              "</div>"
            ],
            "text/plain": [
              "        id  merchant_id  merchant_name merchant_ciiu  amount_in_cents  \\\n",
              "0  1000000         1040  Comercio_1040         G4741            78240   \n",
              "1  1000001         1007  Comercio_1007         I5610            21469   \n",
              "2  1000002         1001  Comercio_1001         G4711            73617   \n",
              "3  1000003         1047  Comercio_1047         G4761            40190   \n",
              "4  1000004         1017  Comercio_1017         G4773           107172   \n",
              "\n",
              "         created_date payment_method_type    status anio_mes  \n",
              "0 2025-05-08 08:02:36               NEQUI  APPROVED   202505  \n",
              "1 2025-04-03 20:33:29         BANCOLOMBIA  APPROVED   202504  \n",
              "2 2025-06-27 15:29:33                 PSE  APPROVED   202506  \n",
              "3 2025-04-05 00:05:00                 PSE  REFUNDED   202504  \n",
              "4 2025-06-24 21:22:58               NEQUI  APPROVED   202506  "
            ]
          },
          "execution_count": 14,
          "metadata": {},
          "output_type": "execute_result"
        }
      ],
      "source": [
        "import datetime\n",
        "df_trans_comer['created_date']=pd.to_datetime(df_trans_comer['created_date'],format='%Y-%m-%d %H:%M:%S',errors='coerce')#datetime.date.today()\n",
        "df_trans_comer['anio_mes'] = df_trans_comer['created_date'].dt.strftime('%Y%m') \n",
        "df_trans_comer.head()"
      ]
    },
    {
      "cell_type": "markdown",
      "metadata": {},
      "source": [
        "### transacciones por mes"
      ]
    },
    {
      "cell_type": "code",
      "execution_count": 15,
      "metadata": {},
      "outputs": [
        {
          "name": "stdout",
          "output_type": "stream",
          "text": [
            "anio_mes\n",
            "202503    2098\n",
            "202507    2061\n",
            "202505    2059\n",
            "202506    2028\n",
            "202504    2010\n",
            "202502     897\n",
            "202508     847\n",
            "Name: count, dtype: int64\n",
            "\n",
            "anio_mes\n",
            "202503    17.483333\n",
            "202507    17.175000\n",
            "202505    17.158333\n",
            "202506    16.900000\n",
            "202504    16.750000\n",
            "202502     7.475000\n",
            "202508     7.058333\n",
            "Name: proportion, dtype: float64\n"
          ]
        }
      ],
      "source": [
        "print(df_trans_comer['anio_mes'].value_counts(dropna=False))\n",
        "print()\n",
        "print(df_trans_comer['anio_mes'].value_counts(True,dropna=False)*100)"
      ]
    },
    {
      "cell_type": "markdown",
      "metadata": {},
      "source": [
        "### Meticas generales"
      ]
    },
    {
      "cell_type": "code",
      "execution_count": null,
      "metadata": {},
      "outputs": [],
      "source": [
        "BD_metri_come=df_trans_comer.groupby(['merchant_name','merchant_ciiu']).size().reset_index(name='cant_transs' \\\n",
        "'' \\\n",
        "'')"
      ]
    },
    {
      "cell_type": "code",
      "execution_count": null,
      "metadata": {},
      "outputs": [],
      "source": [
        "BD_grupos=BD_algo2.groupby(['NumeroDocIdCliente','merchant_ciiu']).size().reset_index(name='frec_grupo')\n",
        "\n",
        "BD_grupos=BD_grupos.sort_values(['NumeroDocIdCliente','frec_grupo'],ascending=[True,False]).groupby('NumeroDocIdCliente').head(1)\n",
        "BD_grupos.shape\n",
        "\n",
        "BDA= BD_algo2_fn[(BD_algo2_fn['Grupo_categ']==\"A\")].pivot_table(values='score', index='categoria', columns='NumeroDocIdCliente', fill_value=0)\n",
        "print(BDA.shape)\n",
        "\n",
        "BD_recom_A['Top3_categorias'] = BD_recom_A.sort_values(['NumeroDocIdCliente','categoria'],ascending=[True,True]).groupby(['NumeroDocIdCliente'])['categoria'].transform(lambda x : '|'.join(x))\n",
        "BD_recom_A['Orden_categ'] = BD_recom_A.groupby(['NumeroDocIdCliente'])['categoria'].transform(lambda x : '|'.join(x))\n"
      ]
    },
    {
      "cell_type": "code",
      "execution_count": 5,
      "metadata": {
        "colab": {
          "base_uri": "https://localhost:8080/"
        },
        "id": "le3XCYHFfI5y",
        "outputId": "14a3f4da-d21d-4c3e-f8f1-c5f276ffc8ac"
      },
      "outputs": [
        {
          "data": {
            "text/plain": [
              "[Document(metadata={'source': '/content/bre-b.txt'}, page_content='La interoperabilidad bancaria en Colombia ha ganado relevancia en los últimos años. Pero ¿qué significa exactamente y cómo hace parte del día a día de las personas?\\xa0\\n¿Qué es la interoperabilidad bancaria?\\nLa interoperabilidad en el sistema financiero es la capacidad de hacer transacciones financieras de manera fluida y eficiente a través de la interconexión entre diferentes entidades que hacen parte de la industria financiera.\\xa0\\n\\xa0Imagina que tienes una cuenta en el\\xa0Banco A, pero necesitas hacer un pago o transferencia a alguien que tiene una cuenta en el\\xa0Banco B. Antes, este proceso podía ser complicado y lento debido a los sistemas y procesos de cada banco.\\xa0\\xa0\\n\\xa0Por medio de la interoperabilidad, puedes hacer esta transacción de manera rápida y sencilla, sin importar en qué entidad tengas tu cuenta. Este concepto no es nuevo en el país; ejemplos como\\xa0Transfiya\\xa0y\\xa0PSE\\xa0demuestran que la interoperabilidad se viene trabajando desde hace tiempo promoviendo la agilidad en las transacciones.'),\n",
              " Document(metadata={'source': '/content/bre-b.txt'}, page_content='Beneficios de la interoperabilidad\\nLa interoperabilidad en la prestación de servicios financieros es un paso importante hacia la\\xa0inclusión financiera y la bancarización de personas\\xa0que aún no tienen acceso al sistema financiero y, en algunos casos,\\xa0desconocimiento sobre los productos y servicios que ofrecen\\xa0las entidades de este sector. \\xa0\\nEsto, también facilita que la gente se involucre con la economía formal y no elija opciones que no son confiables. Además, la interoperabilidad hace más sencillas tus transacciones diarias, como pagar a comercios o enviar dinero a amigos y familiares.\\xa0\\nLa interoperabilidad aplica para las cuentas bancarias tradicionales y para los depósitos de bajo monto\\xa0como\\xa0Nequi, lo que significa que incluso si no tienes una cuenta bancaria tradicional, puedes beneficiarte de la\\xa0facilidad\\xa0y\\xa0eficiencia\\xa0que ofrece.\\xa0\\nVentajas de la interoperabilidad financiera para las personas'),\n",
              " Document(metadata={'source': '/content/bre-b.txt'}, page_content='La interoperabilidad bancaria no solo promueve la inclusión financiera al reducir el uso de efectivo, sino que también te brinda mayor seguridad y fomenta una experiencia más fluida y cómoda al ofrecer una red de transacciones accesible y segura para las personas y negocios por igual.\\xa0\\nPero\\xa0los beneficios de la interoperabilidad en el sector financiero\\xa0para las personas no se detienen allí: ayuda a formalizar la economía, a que los usuarios manejen su dinero con más libertad al transferir fondos entre entidades de manera casi instantánea y a que escojan los productos o servicios que van acordes con sus necesidades.'),\n",
              " Document(metadata={'source': '/content/bre-b.txt'}, page_content='En Bancolombia sabemos que la innovación digital fortalece la inclusión gracias a la interoperabilidad entre plataformas y sistemas de pago. Al crear un ecosistema que combina billeteras electrónicas, QR, y opciones de pago diferido, nos hemos adaptado a las necesidades de nuestros usuarios. Esto permite que personas en zonas rurales y urbanas interactúen con el sistema financiero de forma ágil y segura, lo que contribuye a reducir la brecha de acceso y fomenta una economía más digitalizada e inclusiva.\\xa0\\nCon\\xa0Nequi, Wompi y Wenia hemos diseñado estrategias que impulsan la inclusión financiera, la innovación y que expanden el acceso a servicios digitales para personas como tú, que buscan gestionar su plata de forma ágil, fluida y sin procesos complicados, así promovemos la digitalización de los pagos en el país. \\xa0\\n¿La interoperabilidad tiene algo que ver con mis pagos o transacciones?'),\n",
              " Document(metadata={'source': '/content/bre-b.txt'}, page_content='Sí, tiene mucha relación. Gracias a la interoperabilidad, el sector financiero se transforma al eliminar barreras entre entidades; esto permite que recibir y pasar plata sea más inclusivo y flexible. De hecho, hace posible que los sistemas de pago inmediatos funcionen de forma fluida, así puedes manejar tus recursos como quieras sin pensar en qué día u hora de la semana hacer transferencias o pagos. \\xa0\\nLa interoperabilidad en los sistemas de pago permite que los usuarios realicen transacciones entre diferentes entidades financieras de forma rápida y sin complicaciones. Y, si más personas saben cómo funciona este concepto, se reducirá el uso del efectivo, se mejorará la accesibilidad y el bienestar financiero de todos será una realidad.\\xa0\\nLos pagos digitales facilitan tu vida'),\n",
              " Document(metadata={'source': '/content/bre-b.txt'}, page_content='Los pagos digitales y la interoperabilidad bancaria están muy relacionados porque, gracias a que los sistemas se conectan con facilidad entre sí, puedes pasar y recibir plata digitalmente en segundos, sin importar que sea de otra entidad financiera. Así no tienes que inscribir cuentas cada vez que compras y tampoco esperar a que alguien más apruebe tu transferencia.\\xa0 \\xa0\\nAhora estamos familiarizados con\\xa0los pagos digitales e inmediatos porque son una solución que hace que tu vida sea más fácil.\\xa0Imagínate todo el tiempo que ahorras cuando pagas en un par de clics las cuotas de tu crédito o lo sencillo que es ahorrar plata si puedes comprar desde tu celular tiquetes de avión con un superdescuento.\\xa0\\xa0\\nAdemás, son más seguros, porque puedes ver cuánto gastas y en qué, y al usarlos constantemente te haces visible para el sistema financiero, así, podrás acceder a otros productos financieros en el futuro.\\xa0\\xa0\\n¿La interoperabilidad en Colombia es segura?'),\n",
              " Document(metadata={'source': '/content/bre-b.txt'}, page_content='Todas tus transacciones y pagos están asegurados, por eso puedes manejar tu plata con absoluta tranquilidad. Esto se debe a que ocurren bajo un sistema vigilado y que está integrado con cada una de las operaciones que ofrecen las entidades financieras. Por un lado, se encuentran supervisadas por la Superintendencia Financiera y estos lineamientos nos aseguran que los recursos de nuestros usuarios estén dónde se supone que deben estar.\\nY, por el otro, todas las entidades financieras tienen sus propias\\xa0medidas de seguridad y prevención del fraude, configurarlas y usarlas hace que las cuentas de ahorro o corrientes y los depósitos de bajo monto sean cada vez más fuertes. En este sentido, tu participación, educación y acción es fundamental para prevenir todo tipo de delitos.\\xa0\\xa0\\nEl futuro de la interoperabilidad bancaria y los sistemas de pagos inmediatos'),\n",
              " Document(metadata={'source': '/content/bre-b.txt'}, page_content='En el 2025, manejar la plata será aún más sencillo.\\xa0El Sistema de Pagos Inmediatos (SPI), Bre-B, del Banco de la República, tiene como objetivo lograr que los colombianos confíen en las transacciones en línea y el uso del efectivo sea menor. Para cumplir con esta meta, las entidades bancarias que nos unamos a él tendremos un botón en nuestras aplicaciones a través del cual podrás realizar todos tus pagos y transferencias. \\xa0\\nCon este sistema ya no tendrás que esperar horas o días a que un pago se efectúe ni que la entidad financiera acepte la transferencia. De hecho, la promesa del Banco de la República es que será tan práctico y sencillo manejar tu plata que en 20 segundos la otra persona podrá recibir sus recursos sin problema. Y, para simplificar todo muchísimo más, ya no es un requisito dar un número de cuenta bancaria, sino una llave.\\xa0\\nLlaves y Sistema de Pagos Inmediatos (SPI)'),\n",
              " Document(metadata={'source': '/content/bre-b.txt'}, page_content='Ahora es común pasar plata usando el número de celular, pero también podrás usar tu documento de identidad, el correo electrónico o una alfanumérica que es una combinación entre números y letras basada en tus datos (por ejemplo, @Camilo2025) que te asigna tu entidad financiera. \\xa0\\nEstos identificadores serán conocidos como\\xa0llaves en el Sistema de Pagos Inmediatos, Bre-B, del Banco de la República.\\xa0Cada usuario podrá asignar la llave que prefiera a su cuenta de ahorros o corriente y a los depósitos de bajo monto con los que cuente. \\xa0\\nAl usar información personal y que, por lo general, se usa cotidianamente, se evita cometer el error de enviar plata a cuentas equivocadas y se disminuye el tiempo para hacer pagos o transferencias. Ten presente que\\xa0tus llaves Bancolombia podrás elegirlas en Bre \\x96 B en el segundo semestre del 2025.'),\n",
              " Document(metadata={'source': '/content/bre-b.txt'}, page_content='En resumen, la interoperabilidad bancaria en Colombia está cambiando la forma en que las personas manejan su plata, haciendo que las transacciones financieras sean más rápidas, fáciles y accesibles para todos.\\xa0\\nRecomendaciones para escoger tu llave Bancolombia\\xa0\\nPara registrar Tus Llaves Bancolombia en Bre-B, ten en cuenta en qué las vas a usar y con quién las vas a compartir, así pasas el dato que más te funcione dependiendo de la situación. Por ejemplo, el celular o el documento de identidad para los amigos y la familia, ya que es una información que es fácil de recordar y puedes dárselo a las personas que conoces.\\xa0\\xa0\\xa0\\nEl correo electrónico para tus compras en línea y, tu llave Bancolombia, es decir, la que nosotros te damos y tiene números y letras, la puedes usar en muchos contextos diferentes.'),\n",
              " Document(metadata={'source': '/content/bre-b.txt'}, page_content='Registra Tus Llaves Bancolombia en Bre-B y decide las que mejor se adapten a tus necesidades. Recuerda actualizar la información en caso de cambios.\\xa0Conoce más consejos para escoger la ideal en este artículo.\\xa0\\nMueve plata en segundos y con seguridad\\xa0\\nLas llaves llegarán en el 2025 a facilitar la forma en que mueves tu plata. Así, los pagos digitales siguen siendo parte de tu vida al pagar el mercado, comprar una empanada o mantenerte al día con tu arriendo fácil y en segundos. Por eso, es muy importante que cuides siempre tus datos y tengas cuidado con las llamadas y los mensajes que recibes.\\xa0\\nExisten varios consejos que puedes seguir para proteger tus llaves Bancolombia y cuidar tu plata en todo momento.\\xa0Uno de los principales es que te tomes el tiempo para leer y releer muy bien los mensajes y correos que te envían. Aunque los delincuentes traten de imitar a tu entidad financiera, en realidad hay errores que te ayudan a identificar si se trata de un fraude.'),\n",
              " Document(metadata={'source': '/content/bre-b.txt'}, page_content='Fíjate en la ortografía, en los datos que te piden (en Bancolombia nunca te pediremos tu clave dinámica, por ejemplo), mira a detalle los enlaces y comprueba que los mensajes que nosotros te enviemos comiencen así:\\xa0https://bancol.co/. Si tienes dudas, envíalo a nuestro WhatsApp +57 300 887 6817 o reenvía los mails extraños a correosospechoso@bancolombia.com.co\\xa0\\nY si pierdo mi celular, ¿qué pasa con mis llaves Bancolombia?\\xa0\\xa0\\nLo principal es que sepas que cuando el Sistema de Pagos Inmediatos (SPI) del Banco de la República comience, todas las entidades que nos sumemos a él mantendremos nuestros estándares de seguridad para proteger cada una de tus transacciones. Pero,\\xa0si llegas a perder tu celular, ten en cuenta estas recomendaciones para que tu plata siempre esté segura:\\xa0\\n1. Actúa de inmediato para que tu entidad financiera bloquee los movimientos que se hagan en tu cuenta.'),\n",
              " Document(metadata={'source': '/content/bre-b.txt'}, page_content='2. Avísale a tu operador, así podrás bloquear el dispositivo perdido y proteger tus contactos, fotos y demás información confidencial. \\xa0\\n3. Protégete aún más colocando topes en tus transacciones y activando el sistema de alertas y notificaciones.\\xa0\\nEl número de cuenta dejará de existir, ¿verdad o mito?\\xa0\\xa0\\nMito.\\xa0Tu número de cuenta seguirá existiendo porque es una forma de identificar tus cuentas de ahorros, corrientes o depósitos de bajo monto.\\xa0Si quieres, puedes seguirla usando para realizar transacciones.\\xa0\\xa0\\nPero, con la llegada de Bre-B en el segundo semestre de 2025, no tendrás que dar un número de cuenta larguísimo porque al usar alguna de tus llaves Bancolombia lograrás de pasar plata entre diferentes entidades financieras en segundos.'),\n",
              " Document(metadata={'source': '/content/bre-b.txt'}, page_content='Muchas veces, las transferencias entre cuentas bancarias pueden demorarse días y, si haces tus transacciones los fines de semana o festivos, deberás esperar hasta el lunes o martes para que sea efectiva. Así, que aprovecha las ventajas que te dará Bre-B para mover la plata a tu gusto.'),\n",
              " Document(metadata={'source': '/content/bre-b.txt'}, page_content='¿Qué busca el Banco de la República?\\nEl Banco de la República analizó que, frente al uso tan alto del efectivo en Colombia (más del 70 % de las transacciones se hacen a través de este medio) era necesario tener un sistema de pagos fácil, rápido e inmediato y así fomentar la\\xa0inclusión financiera\\xa0en Colombia.\\nCon Bre-B, el Banco de la República busca que, sin importar la entidad financiera en la que estés, muevas tu plata, con los mismos estándares tecnológicos que permiten interactuar los sistemas que hoy funcionan de manera independiente. Esto significa poner en funcionamiento una infraestructura que los conecte y canalice las operaciones entre ellos.\\xa0\\xa0\\nEsta infraestructura tiene dos componentes principales:\\n1. Un módulo de liquidación:\\xa0para que todas las personas puedan transferir su plata 24/ 7. Esto les aporta a las personas eficiencia y seguridad.'),\n",
              " Document(metadata={'source': '/content/bre-b.txt'}, page_content='2. Directorio central:\\xa0se estandarizará la experiencia del usuario para que en todos los lugares la forma de hacer transacciones sea fácil y bajo las mismas condiciones. Para hacer una transacción se usará una llave, la cual servirá para enviar plata a otra persona, más adelante encontrarás una explicación de cómo funcionarán estas identificaciones.\\n¿Qué es la interoperabilidad?\\nLa interoperabilidad\\xa0es la capacidad de conectar sistemas para habilitar la transferencia de información y la ejecución de transacciones entre diferentes entidades de manera fácil y eficiente. Para hacerlo más fácil, podemos dividir la palabra en dos:\\n* Inter:\\xa0entre organizaciones.\\n* Operabilidad:\\xa0listo y preparado para operar.'),\n",
              " Document(metadata={'source': '/content/bre-b.txt'}, page_content='El objetivo de la interoperabilidad es que las personas y negocios muevan su dinero fácilmente entre cuentas bancarias y depósitos de bajo monto entre las diferentes entidades que participan en el sistema financiero. La idea es que enviar y recibir plata sea un proceso rápido y sencillo.\\nEs importante mencionar que\\xa0la interoperabilidad trae muchos beneficios para las personas\\xa0al permitirles hacer un pago o una transferencia sin importar la entidad financiera en donde tengan su cuenta. Además, pueden usarlo personas con una cuenta digital o que manejan una prepagada.\\n¿Qué se logrará con el Sistema de Pagos Inmediatos en Colombia del Banco de la República, Bre-B?'),\n",
              " Document(metadata={'source': '/content/bre-b.txt'}, page_content='El objetivo es asegurar que las personas en Colombia tengan acceso a ese mundo digital y puedan hacer sus transacciones y pagos de una manera fácil y rápida, además de reducir el uso del efectivo. Esto es importante en términos de\\xa0inclusión financiera, competitividad y eficiencia para las personas y los negocios, especialmente para los pequeños. También, contribuye a que los colombianos\\xa0accedan a la economía formal\\xa0y dejen de lado otras opciones poco confiables.\\nCreo que podemos incluir algo relacionado con la reducción del efectivo!\\nVentajas de la interoperabilidad\\n* Mejora la digitalización de los pagos y transferencias en Colombia.\\n* Permite los pagos y transferencias inmediatas.\\n* Genera eficiencias en el sistema de pagos tanto para consumidores financieros como paralas entidades.\\n* Promueve la\\xa0inclusión financiera.\\n* Fomenta la formalización en pequeños negocios.\\n¿Qué es Bre-B?'),\n",
              " Document(metadata={'source': '/content/bre-b.txt'}, page_content='El jueves 1° de agosto de 2024, el Banco de la República presentó Bre-B, el nombre que identifica el\\xa0Sistema de Pagos Inmediatos e Interoperables en Colombia.\\nBre-B entrará a ser parte de los\\xa0servicios de interoperabilidad en nuestro país\\xa0, donde plataformas ya conocidas como\\xa0Transfiya\\xa0se conectarán entre sí, lo que permite a los usuarios hacer transferencias entre diferentes entidades financieras en cuestión de segundos, facilitando la vida de la gente con pagos digitales a un clic\\nSe espera que este sistema entre en funcionamiento a partir del segundo semestre de 2025 y estará disponible para los usuarios desde las aplicaciones de las entidades financieras.\\n¿Cómo funcionará Bre-B?'),\n",
              " Document(metadata={'source': '/content/bre-b.txt'}, page_content='Los pagos y transferencias interoperables funcionarán con \"llaves\".\\xa0Las llaves serán identificadores únicos\\xa0conectados a tu cuenta bancaria o a tu depósito de bajo monto. Cada persona podrá escoger la llave de su preferencia y registrarla en la entidad en la que mueve su plata y que se una al nuevo Sistema de Pagos Inmediatos del Banco de la República.\\nTendrás 4 opciones de llaves para registrar. Tú eliges cuáles serán tus Llaves Bancolombia en Bre-B:\\xa0\\xa0\\n* Documento de identidad\\xa0\\n* Número de celular\\n* Correo electrónico\\n* Código alfanumérico (conformado por letras y números. Este te lo da tu banco)\\xa0\\xa0\\n* Para los comercios, aplica el identificador de comercio\\xa0\\n¿No sabes qué llave elegir o en qué situaciones usarla? No te preocupes,\\xa0en este artículo te damos una guía práctica para que lo puedas hacer sin complicaciones'),\n",
              " Document(metadata={'source': '/content/bre-b.txt'}, page_content='En Bre-B podrás tener más de una llave: varios correos, varios celulares o varias llaves alfanuméricas. Para tu cuenta bancaria o tu depósito de bajo monto puedes tener varias llaves, pero no puedes elegir una llave en más de una cuenta o depósito.\\xa0\\nUsar las llaves es fácil:\\n1. Registra tus llaves:\\xa0elige qué llave quieres asociar a tu número de cuenta o a tu depósito de bajo monto.\\n2. Comparte tu llave:\\xa0con la persona que te enviará plata. No importa de qué entidad financiera venga el pago.\\n3. Transfiere seguro:\\xa0antes de enviar tu plata, confirma la llave de la persona a la que le vas a transferir y el valor.\\nCuando tengas tu llave registrada ya no tendrás que dar tu número de cuenta. Con tus llaves será más fácil y sin necesidad de dar otros datos. Si una persona quiere enviar plata, entrará a la app de su entidad y encontrará dos campos: el campo llave y el campo monto de la transacción. ¿Y lo mejor? Esta experiencia será muy similar en todas las entidades.'),\n",
              " Document(metadata={'source': '/content/bre-b.txt'}, page_content='¿Bre-B será una nueva aplicación para pasar plata?\\nNo, para usar Bre-B no tendrás que descargar ninguna aplicación. En el segundo semestre de 2025 vas a ver una opción dentro de las aplicaciones de las entidades financieras.'),\n",
              " Document(metadata={'source': '/content/bre-b.txt'}, page_content='Con Bre-B, sin importar tu entidad financiera, podrás pasar y recibir plata en segundos. Lo único que tendrás que hacer es inscribir tus llaves y elegir a qué cuenta de ahorro, corriente o depósito de bajo monto las vas a asociar. Pueden ser tu documento de identidad, tu llave Bancolombia, número de celular o correo electrónico.\\nTodo este proceso será breve en la app Mi Bancolombia sin ir a la sucursal física, ni descargar ninguna aplicación para inscribirlas.\\nEn conclusión, ¿Bre-B cambiará la forma en la que las personas mueven su plata?\\nCon Bre-B más personas podrán acceder al sistema de pagos digitales inmediatos. Esto ayudará al país a avanzar en el proceso de digitalización y a incluir a más personas en el sistema financiero. Y, por la seguridad no te preocupes, pues este sistema contará con todas las\\xa0medidas para prevenir el fraude, entre otro tipo de delitos.'),\n",
              " Document(metadata={'source': '/content/bre-b.txt'}, page_content='Bre-B será esa ventana para que las personas puedan enviar dinero o hacer pagos entre cuentas de diferentes entidades a cualquier hora y día de la semana. Esto hace que enviar y recibir dinero sea rápido y fácil, sin importar a qué entidad pertenezcan. Llegará en 2025 y ahí estaremos. En Bancolombia impulsamos la inmediatez en pagos.\\n¿Qué es un medio de pago?\\nNo hay sistemas de pago sin medios de pago, pero ¿qué significan esas palabras? Los medios de pago son todos los productos financieros que tienes a tu alcance para poder pagar, como tu cuenta bancaria o tu depósito de bajo monto, por ejemplo, Bancolombia A la mano. De hecho, los usas a diario con las tarjetas débito o crédito e incluso con el QR con el que pagas por un servicio o producto en tu barrio.\\nLos medios de pago evolucionan a medida que el país, las situaciones y las personas también lo hacen, por eso, ahora encuentras muchas alternativas que acercan los servicios financieros a la gente y a las empresas.'),\n",
              " Document(metadata={'source': '/content/bre-b.txt'}, page_content='Latinoamérica es una región que se ha caracterizado por tener un amplio uso del efectivo y porque muchas personas aún no tienen una cuenta en el banco o en billeteras digitales como Nequi, pero esta realidad ha cambiado y cada vez son más las posibilidades para que los pagos se hagan en minutos y sin complicaciones.\\nDentro de este contexto, las transacciones en línea también juegan un papel importante, con pocos clics pagas el recibo de la luz, alguna compra en internet o disfrutas de tu película favorita. La facilidad con la que se hacen estos pagos y cómo lo usamos en la vida diaria ha hecho que las empresas del sector financiero hablen cada vez más de interoperabilidad.\\n¿Interoperabilidad? ¿Eso qué es?'),\n",
              " Document(metadata={'source': '/content/bre-b.txt'}, page_content='La interoperabilidad, en pocas palabras, es poder mover tu plata sin importar el banco en el que estés o cuál tenga la persona que la reciba.\\xa0Tú haces pagos interoperables con una transferencia a un familiar que tiene una cuenta en otra entidad o en el momento en el que usas plataformas como PSE para tus compras por internet. Pero esta palabra va mucho más allá, también hace referencia a que este proceso sea fácil, sin complicaciones y en minutos.\\nDesde Bancolombia hemos logrado adaptarnos a los cambios y estar al frente de las tendencias, pues sabemos que cada innovación y nueva propuesta en la industria financiera ayuda a que nuestros clientes logren el bienestar que merecen.\\n¿De qué me sirven la interoperabilidad y los sistemas de pago inmediatos?'),\n",
              " Document(metadata={'source': '/content/bre-b.txt'}, page_content='Entendemos que te hagas estas preguntas y, aunque no lo creas, tienen más relación contigo de lo que te imaginas. A partir del 2025 empezará a funcionar, por determinación del Banco de la República,\\xa0el Sistema de Pagos Inmediatos e Interoperables que se llamará Bre-B. Desde este año empezarás a escuchar mucho sobre llaves y verás que los bancos contaremos con un nuevo sello con el que podrás identificarlo.'),\n",
              " Document(metadata={'source': '/content/bre-b.txt'}, page_content='Bre-B tiene el objetivo de disminuir el uso del efectivo, impulsar mucho más la inclusión financiera y facilitar las transacciones y pagos entre diversas entidades mediante el uso de llaves.\\xa0Las llaves serán un identificador para tus medios de pago (cuentas bancarias o depósitos de bajo monto),\\xa0pero para evitar errores y que sea muy fácil recordarlo, podrás escoger diferentes tipos de llaves a partir de datos que usas en tu día a día: número de celular, cédula de ciudadanía, correo electrónico o una opción alfanumérica, es decir, una combinación de letras y números única que te asignará tu banco.'),\n",
              " Document(metadata={'source': '/content/bre-b.txt'}, page_content='Con Bre-B podrás pasar plata en cualquier momento del día sin importar si es fin de semana o si haces una transacción a las tres de la mañana. ¿Y esto sí es un cambio? Claro que sí, la promesa de valor es que las transacciones duren alrededor de 20 segundos desde que inicia la operación hasta que la plata llega a la cuenta de la otra entidad, ya no tendrás que esperar horas o que no sea festivo.\\xa0\\nDe acuerdo con Ana María Prieto, directora del departamento de Sistemas de Pago del Banco de la República, la primera fase será de inscripción, es decir, deberás registrar las llaves que más te sirven para enviar y recibir plata dependiendo la entidad donde tengas algún medio de pago. Luego de esta etapa, comenzará la operación total del sistema.\\xa0\\xa0\\n¿Qué viene después con el sistema de pagos inmediatos?'),\n",
              " Document(metadata={'source': '/content/bre-b.txt'}, page_content='El sistema de pagos inmediatos abre una amplia gama de posibilidades para todos los colombianos. Se trata de un ecosistema óptimo, rápido y seguro con el que podrás manejar tu plata y superar todas esas barreras que a veces existen entre entidades financieras. Pronto verás que es muy fácil, en pocos pasos y muy útil para las finanzas de tu vida diaria.\\nEn Bancolombia estamos siempre a la vanguardia con todas estas innovaciones que transforman el sistema financiero y que brindan oportunidades a nuestros clientes para alcanzar el bienestar, mejorar su relación con la plata y lograr sus objetivos. Por eso, seguiremos construyendo un ecosistema de pagos eficiente a través de soluciones únicas: Wompi, Nequi, Bancolombia A la mano y mucho más.'),\n",
              " Document(metadata={'source': '/content/bre-b.txt'}, page_content='¿Qué son las Llaves\\nde Bre-B?\\nEs el identificador que el cliente debe registrar en la entidad de su preferencia y se vincula con su medio de pago (cuenta o depósito electrónico).\\n\\nLa Llave es el dato que deberá compartirle a la persona que le va a enviar dinero a usted.\\nLas opciones de Llave las ofrece la entidad según la información que el usuario tenga registrada.\\n\\n¿Cómo puedo crear una Llave?\\nA través de los canales digitales de la entidad donde tenga su cuenta o depósito electrónico.\\n\\nSe podrá escoger entre cuatro tipos de llaves:\\n1. Número de documento de identidad\\n2. Número de celular\\n3. Identificador alfanumérico generado aleatoriamente por su entidad\\n4. Correo electrónico\\n\\nAdemás,\\n5. Los comercios podrán elegir el código de comercio asignado por la entidad donde tienen su medio de pago\\n\\nUna llave solo se puede asociar a una cuenta o deposito, sin embargo, una cuenta o deposito puede estar asociada a varias llaves.'),\n",
              " Document(metadata={'source': '/content/bre-b.txt'}, page_content='¿Qué tipos de pagos y transferencias se pueden hacer con Bre-B?\\nSe pueden hacer pagos y transferencias de persona a persona o de persona a comercio.\\n\\nPara enviar (pagar o transferir de manera inmediata) necesita:\\n\\n\\nTener una cuenta o depósito en alguna entidad desde donde saldrá el dinero.\\nConocer la Llave de la persona o (comercio) que recibirá el dinero o escanear el código QR.\\nSaber el monto que va a pagar o transferir de manera inmediata.\\nPara recibir\\ndebe vincular una Llave a la cuenta o depósito donde desee que llegue el dinero.\\nNo es necesario tener una Llave para enviar dinero, pero sí es necesario para recibir\\n¿Cuánto dinero podré transferir por Bre-B?\\nPuede hacer desde pagos cotidianos de bajo monto hasta transferencias por\\n\\n11.552.000 pesos*,\\nsu entidad puede establecer un monto menor, limitar el número de transacciones diarias o establecer otros criterios por motivos de seguridad.'),\n",
              " Document(metadata={'source': '/content/bre-b.txt'}, page_content='*El valor máximo por transacción en Bre-B es de 1.000 unidades de valor básico (UVB) del año en curso. Para el 2025 es de COP 11.552.\\n\\nCódigo QR\\nBre-B también tiene códigos QR.\\nSolo escanee el código QR para iniciar el pago o transferencia.\\n\\n\\n*Los comercios pueden hacer uso de los códigos QR desde el inicio de operación de Bre-B y las personas naturales a partir del primer semestre de 2026.\\n\\n¿Qué es Bre-B?\\nEs el nuevo sistema de pagos inmediatos interoperado de Colombia que permitirá hacer pagos y transferencias al instante, sin importar la entidad donde tenga su cuenta o depósito electrónico.\\n\\n\\nIdentificará la nueva forma de hacer pagos y transferencias inmediatas de forma sencilla, sin importar la hora o el día, inclusive si es fin de semana o festivo.\\n\\n\\n\\n¿Dónde se encontrará?\\nEn los canales digitales de la entidad donde tenga su cuenta o depósito electrónico.'),\n",
              " Document(metadata={'source': '/content/bre-b.txt'}, page_content='¿Quiénes podrán usarlo?\\nCualquier persona o comercio a través de los canales digitales donde tenga su cuenta o depósito electrónico.\\n\\n\\n\\n¿Cuándo estará disponible?\\nDesde el segundo semestre de 2025.\\n\\n \\n¿Qué beneficios tendrá Bre-B?\\nSolo con la Llave o leyendo un código QR y el monto, podrá realizar un pago o transferencia.\\nPermite hacer pagos o transferencias entre distintas entidades.\\n¡El dinero llega en segundos\\nal destinatario!\\nPuede hacer transferencias a cualquier hora y cualquier día de la semana.\\n \\n¿Qué permite un sistema de pagos inmediatos?\\n\\nPermite realizar pagos y transferencias de manera inmediata sin importar la entidad financiera o cooperativa donde tenga su cuenta o depósito.\\n\\n\\nSignifica que permite realizar transferencias o pagos las 24 horas del día, los 7 días de la semana y los 365 días del año.\\n\\nCon un sistema de pagos inmediatos interoperable podrá enviar y recibir dinero al instante, sin importar la entidad donde tenga su cuenta o depósito.')]"
            ]
          },
          "execution_count": 5,
          "metadata": {},
          "output_type": "execute_result"
        }
      ],
      "source": [
        "text_splitter = RecursiveCharacterTextSplitter(chunk_size=1000, chunk_overlap=0)\n",
        "texts = text_splitter.split_documents(documents)\n",
        "texts"
      ]
    },
    {
      "cell_type": "markdown",
      "metadata": {
        "id": "4OpsWfUifad1"
      },
      "source": [
        "### 3. Ejecución del algoritmo de clustering y elección del número óptimo de clusters."
      ]
    },
    {
      "cell_type": "code",
      "execution_count": 6,
      "metadata": {
        "colab": {
          "base_uri": "https://localhost:8080/"
        },
        "id": "0ylIQhZpfMx0",
        "outputId": "7300db6e-ec4e-4de7-e633-c270325fef9b"
      },
      "outputs": [
        {
          "name": "stderr",
          "output_type": "stream",
          "text": [
            "/tmp/ipython-input-6-2665919207.py:2: LangChainDeprecationWarning: The class `HuggingFaceEmbeddings` was deprecated in LangChain 0.2.2 and will be removed in 1.0. An updated version of the class exists in the :class:`~langchain-huggingface package and should be used instead. To use it run `pip install -U :class:`~langchain-huggingface` and import as `from :class:`~langchain_huggingface import HuggingFaceEmbeddings``.\n",
            "  embedding = HuggingFaceEmbeddings(\n",
            "/usr/local/lib/python3.11/dist-packages/huggingface_hub/utils/_auth.py:94: UserWarning: \n",
            "The secret `HF_TOKEN` does not exist in your Colab secrets.\n",
            "To authenticate with the Hugging Face Hub, create a token in your settings tab (https://huggingface.co/settings/tokens), set it as secret in your Google Colab and restart your session.\n",
            "You will be able to reuse this secret in all of your notebooks.\n",
            "Please note that authentication is recommended but still optional to access public models or datasets.\n",
            "  warnings.warn(\n"
          ]
        }
      ],
      "source": [
        "from langchain.embeddings import HuggingFaceEmbeddings\n",
        "embedding = HuggingFaceEmbeddings(\n",
        "    model_name=\"sentence-transformers/all-MiniLM-L6-v2\",\n",
        ")"
      ]
    },
    {
      "cell_type": "markdown",
      "metadata": {
        "id": "ApoFab7qf0YA"
      },
      "source": [
        "### vectorizar texto"
      ]
    },
    {
      "cell_type": "code",
      "execution_count": 7,
      "metadata": {
        "colab": {
          "base_uri": "https://localhost:8080/"
        },
        "id": "M1ifAY-VflPy",
        "outputId": "bf553511-3fff-4581-cede-8bfb1945fc27"
      },
      "outputs": [
        {
          "data": {
            "text/plain": [
              "<langchain_community.vectorstores.chroma.Chroma at 0x7d823ae1e610>"
            ]
          },
          "execution_count": 7,
          "metadata": {},
          "output_type": "execute_result"
        }
      ],
      "source": [
        "vectordb = Chroma.from_documents(texts, embedding)\n",
        "vectordb\n"
      ]
    },
    {
      "cell_type": "markdown",
      "metadata": {
        "id": "M1F-id_AgHYw"
      },
      "source": [
        "# Realizar una búsqueda simple en el documento por similitud"
      ]
    },
    {
      "cell_type": "code",
      "execution_count": 8,
      "metadata": {
        "colab": {
          "base_uri": "https://localhost:8080/"
        },
        "id": "KG4LqlT6foaA",
        "outputId": "05461814-d872-42fe-e421-e5cadc7a25e4"
      },
      "outputs": [
        {
          "name": "stdout",
          "output_type": "stream",
          "text": [
            "Document: Latinoamérica es una región que se ha caracterizado por tener un amplio uso del efectivo y porque muchas personas aún no tienen una cuenta en el banco o en billeteras digitales como Nequi, pero esta realidad ha cambiado y cada vez son más las posibilidades para que los pagos se hagan en minutos y sin complicaciones.\n",
            "Dentro de este contexto, las transacciones en línea también juegan un papel importante, con pocos clics pagas el recibo de la luz, alguna compra en internet o disfrutas de tu película favorita. La facilidad con la que se hacen estos pagos y cómo lo usamos en la vida diaria ha hecho que las empresas del sector financiero hablen cada vez más de interoperabilidad.\n",
            "¿Interoperabilidad? ¿Eso qué es?\n",
            "Document: Muchas veces, las transferencias entre cuentas bancarias pueden demorarse días y, si haces tus transacciones los fines de semana o festivos, deberás esperar hasta el lunes o martes para que sea efectiva. Así, que aprovecha las ventajas que te dará Bre-B para mover la plata a tu gusto.\n",
            "Document: Beneficios de la interoperabilidad\n",
            "La interoperabilidad en la prestación de servicios financieros es un paso importante hacia la inclusión financiera y la bancarización de personas que aún no tienen acceso al sistema financiero y, en algunos casos, desconocimiento sobre los productos y servicios que ofrecen las entidades de este sector.  \n",
            "Esto, también facilita que la gente se involucre con la economía formal y no elija opciones que no son confiables. Además, la interoperabilidad hace más sencillas tus transacciones diarias, como pagar a comercios o enviar dinero a amigos y familiares. \n",
            "La interoperabilidad aplica para las cuentas bancarias tradicionales y para los depósitos de bajo monto como Nequi, lo que significa que incluso si no tienes una cuenta bancaria tradicional, puedes beneficiarte de la facilidad y eficiencia que ofrece. \n",
            "Ventajas de la interoperabilidad financiera para las personas\n"
          ]
        }
      ],
      "source": [
        "# **Search**\n",
        "query = \"¿Qué es la interoperabilidad bancaria?\"\n",
        "results = vectordb.similarity_search(query, k=3)\n",
        "for result in results:\n",
        "    print(f\"Document: {result.page_content}\")"
      ]
    },
    {
      "cell_type": "markdown",
      "metadata": {
        "id": "qXS84r0rhy22"
      },
      "source": [
        "### 4. Tabla de oportunidades comerciales mostrando pares de comercios comparables con brechas significativas en uso de medios de pago."
      ]
    },
    {
      "cell_type": "code",
      "execution_count": 9,
      "metadata": {
        "colab": {
          "base_uri": "https://localhost:8080/"
        },
        "id": "tI_u9cFZg0HP",
        "outputId": "fab41602-06f8-4e93-bd0e-ee3c68e15c96"
      },
      "outputs": [
        {
          "name": "stdout",
          "output_type": "stream",
          "text": [
            "\n",
            "    _|    _|  _|    _|    _|_|_|    _|_|_|  _|_|_|  _|      _|    _|_|_|      _|_|_|_|    _|_|      _|_|_|  _|_|_|_|\n",
            "    _|    _|  _|    _|  _|        _|          _|    _|_|    _|  _|            _|        _|    _|  _|        _|\n",
            "    _|_|_|_|  _|    _|  _|  _|_|  _|  _|_|    _|    _|  _|  _|  _|  _|_|      _|_|_|    _|_|_|_|  _|        _|_|_|\n",
            "    _|    _|  _|    _|  _|    _|  _|    _|    _|    _|    _|_|  _|    _|      _|        _|    _|  _|        _|\n",
            "    _|    _|    _|_|      _|_|_|    _|_|_|  _|_|_|  _|      _|    _|_|_|      _|        _|    _|    _|_|_|  _|_|_|_|\n",
            "\n",
            "    A token is already saved on your machine. Run `huggingface-cli whoami` to get more information or `huggingface-cli logout` if you want to log out.\n",
            "    Setting a new token will erase the existing one.\n",
            "    To log in, `huggingface_hub` requires a token generated from https://huggingface.co/settings/tokens .\n",
            "Enter your token (input will not be visible): \n",
            "Add token as git credential? (Y/n) n\n",
            "Token is valid (permission: read).\n",
            "The token `python` has been saved to /root/.cache/huggingface/stored_tokens\n",
            "Your token has been saved to /root/.cache/huggingface/token\n",
            "Login successful.\n",
            "The current active token is: `python`\n"
          ]
        }
      ],
      "source": [
        "#Login to Hugginface\n",
        "!huggingface-cli login"
      ]
    },
    {
      "cell_type": "code",
      "execution_count": 10,
      "metadata": {
        "colab": {
          "base_uri": "https://localhost:8080/"
        },
        "id": "8Titt_7HiNKe",
        "outputId": "f3e583c2-a7a3-4f73-c691-7d84f409d6c0"
      },
      "outputs": [
        {
          "name": "stdout",
          "output_type": "stream",
          "text": [
            "dfperezg\n",
            "\u001b[1morgs: \u001b[0m The0rganization\n"
          ]
        }
      ],
      "source": [
        "!huggingface-cli whoami"
      ]
    },
    {
      "cell_type": "code",
      "execution_count": 11,
      "metadata": {
        "id": "5EHwLsQok92f"
      },
      "outputs": [],
      "source": [
        "import transformers\n",
        "from transformers import AutoTokenizer\n",
        "import torch\n",
        "from torch import cuda, bfloat16"
      ]
    },
    {
      "cell_type": "markdown",
      "metadata": {
        "id": "J5jqKMKYlFcB"
      },
      "source": [
        "### Se Establezca la configuración de cuantificación para un menor uso de memoria de la GPU"
      ]
    },
    {
      "cell_type": "code",
      "execution_count": 12,
      "metadata": {
        "id": "EUzCmY1nlBLJ"
      },
      "outputs": [],
      "source": [
        "bnb_config = transformers.BitsAndBytesConfig(\n",
        "    load_in_4bit=True,\n",
        "    bnb_4bit_quant_type='nf4',\n",
        "    bnb_4bit_use_double_quant=True,\n",
        "    bnb_4bit_compute_dtype=bfloat16\n",
        ")"
      ]
    },
    {
      "cell_type": "markdown",
      "metadata": {
        "id": "fYVdXv7DDGoZ"
      },
      "source": [
        "Carga de modelos Free LLM Huggis face"
      ]
    },
    {
      "cell_type": "code",
      "execution_count": 62,
      "metadata": {
        "colab": {
          "base_uri": "https://localhost:8080/"
        },
        "id": "2NhdvMH4p2ek",
        "outputId": "b994f130-b7f4-4dbf-c0f1-52d2ef5435c0"
      },
      "outputs": [
        {
          "name": "stderr",
          "output_type": "stream",
          "text": [
            "/usr/local/lib/python3.11/dist-packages/transformers/models/auto/tokenization_auto.py:935: FutureWarning: The `use_auth_token` argument is deprecated and will be removed in v5 of Transformers. Please use `token` instead.\n",
            "  warnings.warn(\n"
          ]
        }
      ],
      "source": [
        "model_id = \"facebook/bart-large-cnn\"#\"google-bert/bert-base-uncased\"\"facebook/bart-large-cnn\" posibles modelos free LLMs\n",
        "\n",
        "model_config = transformers.AutoConfig.from_pretrained(\n",
        "    model_id,\n",
        ")\n",
        "model = transformers.AutoModelForCausalLM.from_pretrained(\n",
        "    model_id,\n",
        "    trust_remote_code=True,\n",
        "    config=model_config,\n",
        "    quantization_config=bnb_config,\n",
        "    device_map='auto',\n",
        ")\n",
        "\n",
        "tokenizer = AutoTokenizer.from_pretrained(model_id, use_auth_token=True)#, use_auth_token=True"
      ]
    },
    {
      "cell_type": "markdown",
      "metadata": {
        "id": "oDxT330m-tUu"
      },
      "source": [
        "### 5. Conclusiones y recomendaciones orientadas a negocio."
      ]
    },
    {
      "cell_type": "code",
      "execution_count": 77,
      "metadata": {
        "colab": {
          "base_uri": "https://localhost:8080/"
        },
        "id": "PBm_1hQWMsXT",
        "outputId": "ad7046e5-3c4f-4d21-c294-fe2c5405c9f0"
      },
      "outputs": [
        {
          "name": "stderr",
          "output_type": "stream",
          "text": [
            "Device set to use cpu\n"
          ]
        }
      ],
      "source": [
        "#Model Pipeline\n",
        "\n",
        "from transformers import pipeline\n",
        "\n",
        "pipeline = transformers.pipeline(\n",
        "    \"text-generation\",\n",
        "    model=model,\n",
        "    tokenizer=tokenizer,\n",
        "    torch_dtype=torch.float16,\n",
        "    device_map=\"auto\",\n",
        "    # we pass model parameters here too\n",
        "    # stopping_criteria=stopping_criteria,  # without this model will ramble\n",
        "    temperature=0.1,  # 'randomness' of outputs, 0.0 is the min and 1.0 the max\n",
        "    top_p=0.15,  # select from top tokens whose probability add up to 15%\n",
        "    top_k=0,  # select from top 0 tokens (because zero, relies on top_p)\n",
        "    max_new_tokens=500,  # mex number of tokens to generate in the output\n",
        "    repetition_penalty=1.1  # without this output begins repeating\n",
        "    # do_sample=True,\n",
        "    # truncation=True,\n",
        "    # padding='max_length',\n",
        "    # num_return_sequences=2,\n",
        "    # temperature=1.0,\n",
        "    # num_beams=1,\n",
        "    # max_length=1024,\n",
        "    # max_new_tokens=512,\n",
        ")"
      ]
    },
    {
      "cell_type": "code",
      "execution_count": 78,
      "metadata": {
        "id": "AxZmDECx5QFP"
      },
      "outputs": [],
      "source": [
        "from langchain.llms import HuggingFacePipeline\n",
        "\n",
        "llm = HuggingFacePipeline(pipeline=pipeline)"
      ]
    },
    {
      "cell_type": "code",
      "execution_count": 16,
      "metadata": {
        "colab": {
          "base_uri": "https://localhost:8080/",
          "height": 142
        },
        "id": "_qNgD_uEAej9",
        "outputId": "0da0c022-b7af-48d3-dfb3-cb8e95a4cb16"
      },
      "outputs": [
        {
          "name": "stderr",
          "output_type": "stream",
          "text": [
            "/tmp/ipython-input-16-2625105724.py:1: LangChainDeprecationWarning: The method `BaseLLM.__call__` was deprecated in langchain-core 0.1.7 and will be removed in 1.0. Use :meth:`~invoke` instead.\n",
            "  llm(prompt=\"What is Sentiment analysis\")\n"
          ]
        },
        {
          "data": {
            "application/vnd.google.colaboratory.intrinsic+json": {
              "type": "string"
            },
            "text/plain": [
              "'What is Sentiment analysis overra SheoTheseraoo youo oneraorao dorara over downase over over do over over over down over over Take over over their over over only over over one over over at down over only down over at over over a one over at only over do one over down at over do at over at do over do just only over onlyke over do down over down/ over over is over atather over at/ down over Che over overashaterash over at atater over over Che at at overash Che down Che downater downateraterash Che over ataterater overater over Cheaterashaterker Cheater Che over'"
            ]
          },
          "execution_count": 16,
          "metadata": {},
          "output_type": "execute_result"
        }
      ],
      "source": [
        "llm(prompt=\"What is Sentiment analysis\")"
      ]
    },
    {
      "cell_type": "markdown",
      "metadata": {
        "id": "8GYWRrvy6jJ9"
      },
      "source": [
        "Inicializar cadena"
      ]
    },
    {
      "cell_type": "code",
      "execution_count": 79,
      "metadata": {
        "id": "-qD0DsC84pP5"
      },
      "outputs": [],
      "source": [
        "from langchain.chains import RetrievalQA"
      ]
    },
    {
      "cell_type": "markdown",
      "metadata": {
        "id": "aB7EU5N-67ha"
      },
      "source": [
        "### 6. Sección realizar preguntas al documento que responda con referencia a los chunks recuperado/utilizados."
      ]
    },
    {
      "cell_type": "code",
      "execution_count": 80,
      "metadata": {
        "id": "dFj6i6EH6oQb"
      },
      "outputs": [],
      "source": [
        "retriever = vectordb.as_retriever()\n",
        "\n",
        "retrieve = RetrievalQA.from_chain_type(\n",
        "    llm=llm,\n",
        "    chain_type=\"stuff\",\n",
        "    retriever=retriever,\n",
        "    verbose=True\n",
        ")"
      ]
    },
    {
      "cell_type": "code",
      "execution_count": 81,
      "metadata": {
        "id": "L37J3jN66vA9"
      },
      "outputs": [],
      "source": [
        "def rag(qa, query):\n",
        "    print(f\"Query: {query}\\n\")\n",
        "    result = qa.run(query)\n",
        "    print(\"\\nResult: \", result)"
      ]
    },
    {
      "cell_type": "code",
      "execution_count": 82,
      "metadata": {
        "colab": {
          "base_uri": "https://localhost:8080/",
          "height": 428
        },
        "id": "ixu9oLnH617k",
        "outputId": "c7610ee6-e9dc-4950-db61-ce9910419b7a"
      },
      "outputs": [
        {
          "name": "stderr",
          "output_type": "stream",
          "text": [
            "Both `max_new_tokens` (=500) and `max_length`(=143) seem to have been set. `max_new_tokens` will take precedence. Please refer to the documentation for more information. (https://huggingface.co/docs/transformers/main/en/main_classes/text_generation)\n"
          ]
        },
        {
          "name": "stdout",
          "output_type": "stream",
          "text": [
            "Query: Que es la interoperabilidad bancaria\n",
            "\n",
            "\n",
            "\n",
            "\u001b[1m> Entering new RetrievalQA chain...\u001b[0m\n"
          ]
        },
        {
          "ename": "IndexError",
          "evalue": "index out of range in self",
          "output_type": "error",
          "traceback": [
            "\u001b[0;31m---------------------------------------------------------------------------\u001b[0m",
            "\u001b[0;31mIndexError\u001b[0m                                Traceback (most recent call last)",
            "\u001b[0;32m/tmp/ipython-input-82-2197352790.py\u001b[0m in \u001b[0;36m<cell line: 0>\u001b[0;34m()\u001b[0m\n\u001b[1;32m      1\u001b[0m \u001b[0mprompt\u001b[0m \u001b[0;34m=\u001b[0m \u001b[0;34m\"Que es la interoperabilidad bancaria\"\u001b[0m\u001b[0;34m\u001b[0m\u001b[0;34m\u001b[0m\u001b[0m\n\u001b[0;32m----> 2\u001b[0;31m \u001b[0mrag\u001b[0m\u001b[0;34m(\u001b[0m\u001b[0mretrieve\u001b[0m\u001b[0;34m,\u001b[0m \u001b[0mprompt\u001b[0m\u001b[0;34m)\u001b[0m\u001b[0;34m\u001b[0m\u001b[0;34m\u001b[0m\u001b[0m\n\u001b[0m",
            "\u001b[0;32m/tmp/ipython-input-81-647498373.py\u001b[0m in \u001b[0;36mrag\u001b[0;34m(qa, query)\u001b[0m\n\u001b[1;32m      1\u001b[0m \u001b[0;32mdef\u001b[0m \u001b[0mrag\u001b[0m\u001b[0;34m(\u001b[0m\u001b[0mqa\u001b[0m\u001b[0;34m,\u001b[0m \u001b[0mquery\u001b[0m\u001b[0;34m)\u001b[0m\u001b[0;34m:\u001b[0m\u001b[0;34m\u001b[0m\u001b[0;34m\u001b[0m\u001b[0m\n\u001b[1;32m      2\u001b[0m     \u001b[0mprint\u001b[0m\u001b[0;34m(\u001b[0m\u001b[0;34mf\"Query: {query}\\n\"\u001b[0m\u001b[0;34m)\u001b[0m\u001b[0;34m\u001b[0m\u001b[0;34m\u001b[0m\u001b[0m\n\u001b[0;32m----> 3\u001b[0;31m     \u001b[0mresult\u001b[0m \u001b[0;34m=\u001b[0m \u001b[0mqa\u001b[0m\u001b[0;34m.\u001b[0m\u001b[0mrun\u001b[0m\u001b[0;34m(\u001b[0m\u001b[0mquery\u001b[0m\u001b[0;34m)\u001b[0m\u001b[0;34m\u001b[0m\u001b[0;34m\u001b[0m\u001b[0m\n\u001b[0m\u001b[1;32m      4\u001b[0m     \u001b[0mprint\u001b[0m\u001b[0;34m(\u001b[0m\u001b[0;34m\"\\nResult: \"\u001b[0m\u001b[0;34m,\u001b[0m \u001b[0mresult\u001b[0m\u001b[0;34m)\u001b[0m\u001b[0;34m\u001b[0m\u001b[0;34m\u001b[0m\u001b[0m\n",
            "\u001b[0;32m/usr/local/lib/python3.11/dist-packages/langchain_core/_api/deprecation.py\u001b[0m in \u001b[0;36mwarning_emitting_wrapper\u001b[0;34m(*args, **kwargs)\u001b[0m\n\u001b[1;32m    187\u001b[0m                 \u001b[0mwarned\u001b[0m \u001b[0;34m=\u001b[0m \u001b[0;32mTrue\u001b[0m\u001b[0;34m\u001b[0m\u001b[0;34m\u001b[0m\u001b[0m\n\u001b[1;32m    188\u001b[0m                 \u001b[0memit_warning\u001b[0m\u001b[0;34m(\u001b[0m\u001b[0;34m)\u001b[0m\u001b[0;34m\u001b[0m\u001b[0;34m\u001b[0m\u001b[0m\n\u001b[0;32m--> 189\u001b[0;31m             \u001b[0;32mreturn\u001b[0m \u001b[0mwrapped\u001b[0m\u001b[0;34m(\u001b[0m\u001b[0;34m*\u001b[0m\u001b[0margs\u001b[0m\u001b[0;34m,\u001b[0m \u001b[0;34m**\u001b[0m\u001b[0mkwargs\u001b[0m\u001b[0;34m)\u001b[0m\u001b[0;34m\u001b[0m\u001b[0;34m\u001b[0m\u001b[0m\n\u001b[0m\u001b[1;32m    190\u001b[0m \u001b[0;34m\u001b[0m\u001b[0m\n\u001b[1;32m    191\u001b[0m         \u001b[0;32masync\u001b[0m \u001b[0;32mdef\u001b[0m \u001b[0mawarning_emitting_wrapper\u001b[0m\u001b[0;34m(\u001b[0m\u001b[0;34m*\u001b[0m\u001b[0margs\u001b[0m\u001b[0;34m:\u001b[0m \u001b[0mAny\u001b[0m\u001b[0;34m,\u001b[0m \u001b[0;34m**\u001b[0m\u001b[0mkwargs\u001b[0m\u001b[0;34m:\u001b[0m \u001b[0mAny\u001b[0m\u001b[0;34m)\u001b[0m \u001b[0;34m->\u001b[0m \u001b[0mAny\u001b[0m\u001b[0;34m:\u001b[0m\u001b[0;34m\u001b[0m\u001b[0;34m\u001b[0m\u001b[0m\n",
            "\u001b[0;32m/usr/local/lib/python3.11/dist-packages/langchain/chains/base.py\u001b[0m in \u001b[0;36mrun\u001b[0;34m(self, callbacks, tags, metadata, *args, **kwargs)\u001b[0m\n\u001b[1;32m    601\u001b[0m             \u001b[0;32mif\u001b[0m \u001b[0mlen\u001b[0m\u001b[0;34m(\u001b[0m\u001b[0margs\u001b[0m\u001b[0;34m)\u001b[0m \u001b[0;34m!=\u001b[0m \u001b[0;36m1\u001b[0m\u001b[0;34m:\u001b[0m\u001b[0;34m\u001b[0m\u001b[0;34m\u001b[0m\u001b[0m\n\u001b[1;32m    602\u001b[0m                 \u001b[0;32mraise\u001b[0m \u001b[0mValueError\u001b[0m\u001b[0;34m(\u001b[0m\u001b[0;34m\"`run` supports only one positional argument.\"\u001b[0m\u001b[0;34m)\u001b[0m\u001b[0;34m\u001b[0m\u001b[0;34m\u001b[0m\u001b[0m\n\u001b[0;32m--> 603\u001b[0;31m             return self(args[0], callbacks=callbacks, tags=tags, metadata=metadata)[\n\u001b[0m\u001b[1;32m    604\u001b[0m                 \u001b[0m_output_key\u001b[0m\u001b[0;34m\u001b[0m\u001b[0;34m\u001b[0m\u001b[0m\n\u001b[1;32m    605\u001b[0m             ]\n",
            "\u001b[0;32m/usr/local/lib/python3.11/dist-packages/langchain_core/_api/deprecation.py\u001b[0m in \u001b[0;36mwarning_emitting_wrapper\u001b[0;34m(*args, **kwargs)\u001b[0m\n\u001b[1;32m    187\u001b[0m                 \u001b[0mwarned\u001b[0m \u001b[0;34m=\u001b[0m \u001b[0;32mTrue\u001b[0m\u001b[0;34m\u001b[0m\u001b[0;34m\u001b[0m\u001b[0m\n\u001b[1;32m    188\u001b[0m                 \u001b[0memit_warning\u001b[0m\u001b[0;34m(\u001b[0m\u001b[0;34m)\u001b[0m\u001b[0;34m\u001b[0m\u001b[0;34m\u001b[0m\u001b[0m\n\u001b[0;32m--> 189\u001b[0;31m             \u001b[0;32mreturn\u001b[0m \u001b[0mwrapped\u001b[0m\u001b[0;34m(\u001b[0m\u001b[0;34m*\u001b[0m\u001b[0margs\u001b[0m\u001b[0;34m,\u001b[0m \u001b[0;34m**\u001b[0m\u001b[0mkwargs\u001b[0m\u001b[0;34m)\u001b[0m\u001b[0;34m\u001b[0m\u001b[0;34m\u001b[0m\u001b[0m\n\u001b[0m\u001b[1;32m    190\u001b[0m \u001b[0;34m\u001b[0m\u001b[0m\n\u001b[1;32m    191\u001b[0m         \u001b[0;32masync\u001b[0m \u001b[0;32mdef\u001b[0m \u001b[0mawarning_emitting_wrapper\u001b[0m\u001b[0;34m(\u001b[0m\u001b[0;34m*\u001b[0m\u001b[0margs\u001b[0m\u001b[0;34m:\u001b[0m \u001b[0mAny\u001b[0m\u001b[0;34m,\u001b[0m \u001b[0;34m**\u001b[0m\u001b[0mkwargs\u001b[0m\u001b[0;34m:\u001b[0m \u001b[0mAny\u001b[0m\u001b[0;34m)\u001b[0m \u001b[0;34m->\u001b[0m \u001b[0mAny\u001b[0m\u001b[0;34m:\u001b[0m\u001b[0;34m\u001b[0m\u001b[0;34m\u001b[0m\u001b[0m\n",
            "\u001b[0;32m/usr/local/lib/python3.11/dist-packages/langchain/chains/base.py\u001b[0m in \u001b[0;36m__call__\u001b[0;34m(self, inputs, return_only_outputs, callbacks, tags, metadata, run_name, include_run_info)\u001b[0m\n\u001b[1;32m    384\u001b[0m         }\n\u001b[1;32m    385\u001b[0m \u001b[0;34m\u001b[0m\u001b[0m\n\u001b[0;32m--> 386\u001b[0;31m         return self.invoke(\n\u001b[0m\u001b[1;32m    387\u001b[0m             \u001b[0minputs\u001b[0m\u001b[0;34m,\u001b[0m\u001b[0;34m\u001b[0m\u001b[0;34m\u001b[0m\u001b[0m\n\u001b[1;32m    388\u001b[0m             \u001b[0mcast\u001b[0m\u001b[0;34m(\u001b[0m\u001b[0mRunnableConfig\u001b[0m\u001b[0;34m,\u001b[0m \u001b[0;34m{\u001b[0m\u001b[0mk\u001b[0m\u001b[0;34m:\u001b[0m \u001b[0mv\u001b[0m \u001b[0;32mfor\u001b[0m \u001b[0mk\u001b[0m\u001b[0;34m,\u001b[0m \u001b[0mv\u001b[0m \u001b[0;32min\u001b[0m \u001b[0mconfig\u001b[0m\u001b[0;34m.\u001b[0m\u001b[0mitems\u001b[0m\u001b[0;34m(\u001b[0m\u001b[0;34m)\u001b[0m \u001b[0;32mif\u001b[0m \u001b[0mv\u001b[0m \u001b[0;32mis\u001b[0m \u001b[0;32mnot\u001b[0m \u001b[0;32mNone\u001b[0m\u001b[0;34m}\u001b[0m\u001b[0;34m)\u001b[0m\u001b[0;34m,\u001b[0m\u001b[0;34m\u001b[0m\u001b[0;34m\u001b[0m\u001b[0m\n",
            "\u001b[0;32m/usr/local/lib/python3.11/dist-packages/langchain/chains/base.py\u001b[0m in \u001b[0;36minvoke\u001b[0;34m(self, input, config, **kwargs)\u001b[0m\n\u001b[1;32m    165\u001b[0m         \u001b[0;32mexcept\u001b[0m \u001b[0mBaseException\u001b[0m \u001b[0;32mas\u001b[0m \u001b[0me\u001b[0m\u001b[0;34m:\u001b[0m\u001b[0;34m\u001b[0m\u001b[0;34m\u001b[0m\u001b[0m\n\u001b[1;32m    166\u001b[0m             \u001b[0mrun_manager\u001b[0m\u001b[0;34m.\u001b[0m\u001b[0mon_chain_error\u001b[0m\u001b[0;34m(\u001b[0m\u001b[0me\u001b[0m\u001b[0;34m)\u001b[0m\u001b[0;34m\u001b[0m\u001b[0;34m\u001b[0m\u001b[0m\n\u001b[0;32m--> 167\u001b[0;31m             \u001b[0;32mraise\u001b[0m \u001b[0me\u001b[0m\u001b[0;34m\u001b[0m\u001b[0;34m\u001b[0m\u001b[0m\n\u001b[0m\u001b[1;32m    168\u001b[0m         \u001b[0mrun_manager\u001b[0m\u001b[0;34m.\u001b[0m\u001b[0mon_chain_end\u001b[0m\u001b[0;34m(\u001b[0m\u001b[0moutputs\u001b[0m\u001b[0;34m)\u001b[0m\u001b[0;34m\u001b[0m\u001b[0;34m\u001b[0m\u001b[0m\n\u001b[1;32m    169\u001b[0m \u001b[0;34m\u001b[0m\u001b[0m\n",
            "\u001b[0;32m/usr/local/lib/python3.11/dist-packages/langchain/chains/base.py\u001b[0m in \u001b[0;36minvoke\u001b[0;34m(self, input, config, **kwargs)\u001b[0m\n\u001b[1;32m    155\u001b[0m             \u001b[0mself\u001b[0m\u001b[0;34m.\u001b[0m\u001b[0m_validate_inputs\u001b[0m\u001b[0;34m(\u001b[0m\u001b[0minputs\u001b[0m\u001b[0;34m)\u001b[0m\u001b[0;34m\u001b[0m\u001b[0;34m\u001b[0m\u001b[0m\n\u001b[1;32m    156\u001b[0m             outputs = (\n\u001b[0;32m--> 157\u001b[0;31m                 \u001b[0mself\u001b[0m\u001b[0;34m.\u001b[0m\u001b[0m_call\u001b[0m\u001b[0;34m(\u001b[0m\u001b[0minputs\u001b[0m\u001b[0;34m,\u001b[0m \u001b[0mrun_manager\u001b[0m\u001b[0;34m=\u001b[0m\u001b[0mrun_manager\u001b[0m\u001b[0;34m)\u001b[0m\u001b[0;34m\u001b[0m\u001b[0;34m\u001b[0m\u001b[0m\n\u001b[0m\u001b[1;32m    158\u001b[0m                 \u001b[0;32mif\u001b[0m \u001b[0mnew_arg_supported\u001b[0m\u001b[0;34m\u001b[0m\u001b[0;34m\u001b[0m\u001b[0m\n\u001b[1;32m    159\u001b[0m                 \u001b[0;32melse\u001b[0m \u001b[0mself\u001b[0m\u001b[0;34m.\u001b[0m\u001b[0m_call\u001b[0m\u001b[0;34m(\u001b[0m\u001b[0minputs\u001b[0m\u001b[0;34m)\u001b[0m\u001b[0;34m\u001b[0m\u001b[0;34m\u001b[0m\u001b[0m\n",
            "\u001b[0;32m/usr/local/lib/python3.11/dist-packages/langchain/chains/retrieval_qa/base.py\u001b[0m in \u001b[0;36m_call\u001b[0;34m(self, inputs, run_manager)\u001b[0m\n\u001b[1;32m    152\u001b[0m         \u001b[0;32melse\u001b[0m\u001b[0;34m:\u001b[0m\u001b[0;34m\u001b[0m\u001b[0;34m\u001b[0m\u001b[0m\n\u001b[1;32m    153\u001b[0m             \u001b[0mdocs\u001b[0m \u001b[0;34m=\u001b[0m \u001b[0mself\u001b[0m\u001b[0;34m.\u001b[0m\u001b[0m_get_docs\u001b[0m\u001b[0;34m(\u001b[0m\u001b[0mquestion\u001b[0m\u001b[0;34m)\u001b[0m  \u001b[0;31m# type: ignore[call-arg]\u001b[0m\u001b[0;34m\u001b[0m\u001b[0;34m\u001b[0m\u001b[0m\n\u001b[0;32m--> 154\u001b[0;31m         answer = self.combine_documents_chain.run(\n\u001b[0m\u001b[1;32m    155\u001b[0m             \u001b[0minput_documents\u001b[0m\u001b[0;34m=\u001b[0m\u001b[0mdocs\u001b[0m\u001b[0;34m,\u001b[0m \u001b[0mquestion\u001b[0m\u001b[0;34m=\u001b[0m\u001b[0mquestion\u001b[0m\u001b[0;34m,\u001b[0m \u001b[0mcallbacks\u001b[0m\u001b[0;34m=\u001b[0m\u001b[0m_run_manager\u001b[0m\u001b[0;34m.\u001b[0m\u001b[0mget_child\u001b[0m\u001b[0;34m(\u001b[0m\u001b[0;34m)\u001b[0m\u001b[0;34m\u001b[0m\u001b[0;34m\u001b[0m\u001b[0m\n\u001b[1;32m    156\u001b[0m         )\n",
            "\u001b[0;32m/usr/local/lib/python3.11/dist-packages/langchain_core/_api/deprecation.py\u001b[0m in \u001b[0;36mwarning_emitting_wrapper\u001b[0;34m(*args, **kwargs)\u001b[0m\n\u001b[1;32m    187\u001b[0m                 \u001b[0mwarned\u001b[0m \u001b[0;34m=\u001b[0m \u001b[0;32mTrue\u001b[0m\u001b[0;34m\u001b[0m\u001b[0;34m\u001b[0m\u001b[0m\n\u001b[1;32m    188\u001b[0m                 \u001b[0memit_warning\u001b[0m\u001b[0;34m(\u001b[0m\u001b[0;34m)\u001b[0m\u001b[0;34m\u001b[0m\u001b[0;34m\u001b[0m\u001b[0m\n\u001b[0;32m--> 189\u001b[0;31m             \u001b[0;32mreturn\u001b[0m \u001b[0mwrapped\u001b[0m\u001b[0;34m(\u001b[0m\u001b[0;34m*\u001b[0m\u001b[0margs\u001b[0m\u001b[0;34m,\u001b[0m \u001b[0;34m**\u001b[0m\u001b[0mkwargs\u001b[0m\u001b[0;34m)\u001b[0m\u001b[0;34m\u001b[0m\u001b[0;34m\u001b[0m\u001b[0m\n\u001b[0m\u001b[1;32m    190\u001b[0m \u001b[0;34m\u001b[0m\u001b[0m\n\u001b[1;32m    191\u001b[0m         \u001b[0;32masync\u001b[0m \u001b[0;32mdef\u001b[0m \u001b[0mawarning_emitting_wrapper\u001b[0m\u001b[0;34m(\u001b[0m\u001b[0;34m*\u001b[0m\u001b[0margs\u001b[0m\u001b[0;34m:\u001b[0m \u001b[0mAny\u001b[0m\u001b[0;34m,\u001b[0m \u001b[0;34m**\u001b[0m\u001b[0mkwargs\u001b[0m\u001b[0;34m:\u001b[0m \u001b[0mAny\u001b[0m\u001b[0;34m)\u001b[0m \u001b[0;34m->\u001b[0m \u001b[0mAny\u001b[0m\u001b[0;34m:\u001b[0m\u001b[0;34m\u001b[0m\u001b[0;34m\u001b[0m\u001b[0m\n",
            "\u001b[0;32m/usr/local/lib/python3.11/dist-packages/langchain/chains/base.py\u001b[0m in \u001b[0;36mrun\u001b[0;34m(self, callbacks, tags, metadata, *args, **kwargs)\u001b[0m\n\u001b[1;32m    606\u001b[0m \u001b[0;34m\u001b[0m\u001b[0m\n\u001b[1;32m    607\u001b[0m         \u001b[0;32mif\u001b[0m \u001b[0mkwargs\u001b[0m \u001b[0;32mand\u001b[0m \u001b[0;32mnot\u001b[0m \u001b[0margs\u001b[0m\u001b[0;34m:\u001b[0m\u001b[0;34m\u001b[0m\u001b[0;34m\u001b[0m\u001b[0m\n\u001b[0;32m--> 608\u001b[0;31m             return self(kwargs, callbacks=callbacks, tags=tags, metadata=metadata)[\n\u001b[0m\u001b[1;32m    609\u001b[0m                 \u001b[0m_output_key\u001b[0m\u001b[0;34m\u001b[0m\u001b[0;34m\u001b[0m\u001b[0m\n\u001b[1;32m    610\u001b[0m             ]\n",
            "\u001b[0;32m/usr/local/lib/python3.11/dist-packages/langchain_core/_api/deprecation.py\u001b[0m in \u001b[0;36mwarning_emitting_wrapper\u001b[0;34m(*args, **kwargs)\u001b[0m\n\u001b[1;32m    187\u001b[0m                 \u001b[0mwarned\u001b[0m \u001b[0;34m=\u001b[0m \u001b[0;32mTrue\u001b[0m\u001b[0;34m\u001b[0m\u001b[0;34m\u001b[0m\u001b[0m\n\u001b[1;32m    188\u001b[0m                 \u001b[0memit_warning\u001b[0m\u001b[0;34m(\u001b[0m\u001b[0;34m)\u001b[0m\u001b[0;34m\u001b[0m\u001b[0;34m\u001b[0m\u001b[0m\n\u001b[0;32m--> 189\u001b[0;31m             \u001b[0;32mreturn\u001b[0m \u001b[0mwrapped\u001b[0m\u001b[0;34m(\u001b[0m\u001b[0;34m*\u001b[0m\u001b[0margs\u001b[0m\u001b[0;34m,\u001b[0m \u001b[0;34m**\u001b[0m\u001b[0mkwargs\u001b[0m\u001b[0;34m)\u001b[0m\u001b[0;34m\u001b[0m\u001b[0;34m\u001b[0m\u001b[0m\n\u001b[0m\u001b[1;32m    190\u001b[0m \u001b[0;34m\u001b[0m\u001b[0m\n\u001b[1;32m    191\u001b[0m         \u001b[0;32masync\u001b[0m \u001b[0;32mdef\u001b[0m \u001b[0mawarning_emitting_wrapper\u001b[0m\u001b[0;34m(\u001b[0m\u001b[0;34m*\u001b[0m\u001b[0margs\u001b[0m\u001b[0;34m:\u001b[0m \u001b[0mAny\u001b[0m\u001b[0;34m,\u001b[0m \u001b[0;34m**\u001b[0m\u001b[0mkwargs\u001b[0m\u001b[0;34m:\u001b[0m \u001b[0mAny\u001b[0m\u001b[0;34m)\u001b[0m \u001b[0;34m->\u001b[0m \u001b[0mAny\u001b[0m\u001b[0;34m:\u001b[0m\u001b[0;34m\u001b[0m\u001b[0;34m\u001b[0m\u001b[0m\n",
            "\u001b[0;32m/usr/local/lib/python3.11/dist-packages/langchain/chains/base.py\u001b[0m in \u001b[0;36m__call__\u001b[0;34m(self, inputs, return_only_outputs, callbacks, tags, metadata, run_name, include_run_info)\u001b[0m\n\u001b[1;32m    384\u001b[0m         }\n\u001b[1;32m    385\u001b[0m \u001b[0;34m\u001b[0m\u001b[0m\n\u001b[0;32m--> 386\u001b[0;31m         return self.invoke(\n\u001b[0m\u001b[1;32m    387\u001b[0m             \u001b[0minputs\u001b[0m\u001b[0;34m,\u001b[0m\u001b[0;34m\u001b[0m\u001b[0;34m\u001b[0m\u001b[0m\n\u001b[1;32m    388\u001b[0m             \u001b[0mcast\u001b[0m\u001b[0;34m(\u001b[0m\u001b[0mRunnableConfig\u001b[0m\u001b[0;34m,\u001b[0m \u001b[0;34m{\u001b[0m\u001b[0mk\u001b[0m\u001b[0;34m:\u001b[0m \u001b[0mv\u001b[0m \u001b[0;32mfor\u001b[0m \u001b[0mk\u001b[0m\u001b[0;34m,\u001b[0m \u001b[0mv\u001b[0m \u001b[0;32min\u001b[0m \u001b[0mconfig\u001b[0m\u001b[0;34m.\u001b[0m\u001b[0mitems\u001b[0m\u001b[0;34m(\u001b[0m\u001b[0;34m)\u001b[0m \u001b[0;32mif\u001b[0m \u001b[0mv\u001b[0m \u001b[0;32mis\u001b[0m \u001b[0;32mnot\u001b[0m \u001b[0;32mNone\u001b[0m\u001b[0;34m}\u001b[0m\u001b[0;34m)\u001b[0m\u001b[0;34m,\u001b[0m\u001b[0;34m\u001b[0m\u001b[0;34m\u001b[0m\u001b[0m\n",
            "\u001b[0;32m/usr/local/lib/python3.11/dist-packages/langchain/chains/base.py\u001b[0m in \u001b[0;36minvoke\u001b[0;34m(self, input, config, **kwargs)\u001b[0m\n\u001b[1;32m    165\u001b[0m         \u001b[0;32mexcept\u001b[0m \u001b[0mBaseException\u001b[0m \u001b[0;32mas\u001b[0m \u001b[0me\u001b[0m\u001b[0;34m:\u001b[0m\u001b[0;34m\u001b[0m\u001b[0;34m\u001b[0m\u001b[0m\n\u001b[1;32m    166\u001b[0m             \u001b[0mrun_manager\u001b[0m\u001b[0;34m.\u001b[0m\u001b[0mon_chain_error\u001b[0m\u001b[0;34m(\u001b[0m\u001b[0me\u001b[0m\u001b[0;34m)\u001b[0m\u001b[0;34m\u001b[0m\u001b[0;34m\u001b[0m\u001b[0m\n\u001b[0;32m--> 167\u001b[0;31m             \u001b[0;32mraise\u001b[0m \u001b[0me\u001b[0m\u001b[0;34m\u001b[0m\u001b[0;34m\u001b[0m\u001b[0m\n\u001b[0m\u001b[1;32m    168\u001b[0m         \u001b[0mrun_manager\u001b[0m\u001b[0;34m.\u001b[0m\u001b[0mon_chain_end\u001b[0m\u001b[0;34m(\u001b[0m\u001b[0moutputs\u001b[0m\u001b[0;34m)\u001b[0m\u001b[0;34m\u001b[0m\u001b[0;34m\u001b[0m\u001b[0m\n\u001b[1;32m    169\u001b[0m \u001b[0;34m\u001b[0m\u001b[0m\n",
            "\u001b[0;32m/usr/local/lib/python3.11/dist-packages/langchain/chains/base.py\u001b[0m in \u001b[0;36minvoke\u001b[0;34m(self, input, config, **kwargs)\u001b[0m\n\u001b[1;32m    155\u001b[0m             \u001b[0mself\u001b[0m\u001b[0;34m.\u001b[0m\u001b[0m_validate_inputs\u001b[0m\u001b[0;34m(\u001b[0m\u001b[0minputs\u001b[0m\u001b[0;34m)\u001b[0m\u001b[0;34m\u001b[0m\u001b[0;34m\u001b[0m\u001b[0m\n\u001b[1;32m    156\u001b[0m             outputs = (\n\u001b[0;32m--> 157\u001b[0;31m                 \u001b[0mself\u001b[0m\u001b[0;34m.\u001b[0m\u001b[0m_call\u001b[0m\u001b[0;34m(\u001b[0m\u001b[0minputs\u001b[0m\u001b[0;34m,\u001b[0m \u001b[0mrun_manager\u001b[0m\u001b[0;34m=\u001b[0m\u001b[0mrun_manager\u001b[0m\u001b[0;34m)\u001b[0m\u001b[0;34m\u001b[0m\u001b[0;34m\u001b[0m\u001b[0m\n\u001b[0m\u001b[1;32m    158\u001b[0m                 \u001b[0;32mif\u001b[0m \u001b[0mnew_arg_supported\u001b[0m\u001b[0;34m\u001b[0m\u001b[0;34m\u001b[0m\u001b[0m\n\u001b[1;32m    159\u001b[0m                 \u001b[0;32melse\u001b[0m \u001b[0mself\u001b[0m\u001b[0;34m.\u001b[0m\u001b[0m_call\u001b[0m\u001b[0;34m(\u001b[0m\u001b[0minputs\u001b[0m\u001b[0;34m)\u001b[0m\u001b[0;34m\u001b[0m\u001b[0;34m\u001b[0m\u001b[0m\n",
            "\u001b[0;32m/usr/local/lib/python3.11/dist-packages/langchain/chains/combine_documents/base.py\u001b[0m in \u001b[0;36m_call\u001b[0;34m(self, inputs, run_manager)\u001b[0m\n\u001b[1;32m    136\u001b[0m         \u001b[0;31m# Other keys are assumed to be needed for LLM prediction\u001b[0m\u001b[0;34m\u001b[0m\u001b[0;34m\u001b[0m\u001b[0m\n\u001b[1;32m    137\u001b[0m         \u001b[0mother_keys\u001b[0m \u001b[0;34m=\u001b[0m \u001b[0;34m{\u001b[0m\u001b[0mk\u001b[0m\u001b[0;34m:\u001b[0m \u001b[0mv\u001b[0m \u001b[0;32mfor\u001b[0m \u001b[0mk\u001b[0m\u001b[0;34m,\u001b[0m \u001b[0mv\u001b[0m \u001b[0;32min\u001b[0m \u001b[0minputs\u001b[0m\u001b[0;34m.\u001b[0m\u001b[0mitems\u001b[0m\u001b[0;34m(\u001b[0m\u001b[0;34m)\u001b[0m \u001b[0;32mif\u001b[0m \u001b[0mk\u001b[0m \u001b[0;34m!=\u001b[0m \u001b[0mself\u001b[0m\u001b[0;34m.\u001b[0m\u001b[0minput_key\u001b[0m\u001b[0;34m}\u001b[0m\u001b[0;34m\u001b[0m\u001b[0;34m\u001b[0m\u001b[0m\n\u001b[0;32m--> 138\u001b[0;31m         output, extra_return_dict = self.combine_docs(\n\u001b[0m\u001b[1;32m    139\u001b[0m             \u001b[0mdocs\u001b[0m\u001b[0;34m,\u001b[0m \u001b[0mcallbacks\u001b[0m\u001b[0;34m=\u001b[0m\u001b[0m_run_manager\u001b[0m\u001b[0;34m.\u001b[0m\u001b[0mget_child\u001b[0m\u001b[0;34m(\u001b[0m\u001b[0;34m)\u001b[0m\u001b[0;34m,\u001b[0m \u001b[0;34m**\u001b[0m\u001b[0mother_keys\u001b[0m\u001b[0;34m\u001b[0m\u001b[0;34m\u001b[0m\u001b[0m\n\u001b[1;32m    140\u001b[0m         )\n",
            "\u001b[0;32m/usr/local/lib/python3.11/dist-packages/langchain/chains/combine_documents/stuff.py\u001b[0m in \u001b[0;36mcombine_docs\u001b[0;34m(self, docs, callbacks, **kwargs)\u001b[0m\n\u001b[1;32m    257\u001b[0m         \u001b[0minputs\u001b[0m \u001b[0;34m=\u001b[0m \u001b[0mself\u001b[0m\u001b[0;34m.\u001b[0m\u001b[0m_get_inputs\u001b[0m\u001b[0;34m(\u001b[0m\u001b[0mdocs\u001b[0m\u001b[0;34m,\u001b[0m \u001b[0;34m**\u001b[0m\u001b[0mkwargs\u001b[0m\u001b[0;34m)\u001b[0m\u001b[0;34m\u001b[0m\u001b[0;34m\u001b[0m\u001b[0m\n\u001b[1;32m    258\u001b[0m         \u001b[0;31m# Call predict on the LLM.\u001b[0m\u001b[0;34m\u001b[0m\u001b[0;34m\u001b[0m\u001b[0m\n\u001b[0;32m--> 259\u001b[0;31m         \u001b[0;32mreturn\u001b[0m \u001b[0mself\u001b[0m\u001b[0;34m.\u001b[0m\u001b[0mllm_chain\u001b[0m\u001b[0;34m.\u001b[0m\u001b[0mpredict\u001b[0m\u001b[0;34m(\u001b[0m\u001b[0mcallbacks\u001b[0m\u001b[0;34m=\u001b[0m\u001b[0mcallbacks\u001b[0m\u001b[0;34m,\u001b[0m \u001b[0;34m**\u001b[0m\u001b[0minputs\u001b[0m\u001b[0;34m)\u001b[0m\u001b[0;34m,\u001b[0m \u001b[0;34m{\u001b[0m\u001b[0;34m}\u001b[0m\u001b[0;34m\u001b[0m\u001b[0;34m\u001b[0m\u001b[0m\n\u001b[0m\u001b[1;32m    260\u001b[0m \u001b[0;34m\u001b[0m\u001b[0m\n\u001b[1;32m    261\u001b[0m     async def acombine_docs(\n",
            "\u001b[0;32m/usr/local/lib/python3.11/dist-packages/langchain/chains/llm.py\u001b[0m in \u001b[0;36mpredict\u001b[0;34m(self, callbacks, **kwargs)\u001b[0m\n\u001b[1;32m    317\u001b[0m                 \u001b[0mcompletion\u001b[0m \u001b[0;34m=\u001b[0m \u001b[0mllm\u001b[0m\u001b[0;34m.\u001b[0m\u001b[0mpredict\u001b[0m\u001b[0;34m(\u001b[0m\u001b[0madjective\u001b[0m\u001b[0;34m=\u001b[0m\u001b[0;34m\"funny\"\u001b[0m\u001b[0;34m)\u001b[0m\u001b[0;34m\u001b[0m\u001b[0;34m\u001b[0m\u001b[0m\n\u001b[1;32m    318\u001b[0m         \"\"\"\n\u001b[0;32m--> 319\u001b[0;31m         \u001b[0;32mreturn\u001b[0m \u001b[0mself\u001b[0m\u001b[0;34m(\u001b[0m\u001b[0mkwargs\u001b[0m\u001b[0;34m,\u001b[0m \u001b[0mcallbacks\u001b[0m\u001b[0;34m=\u001b[0m\u001b[0mcallbacks\u001b[0m\u001b[0;34m)\u001b[0m\u001b[0;34m[\u001b[0m\u001b[0mself\u001b[0m\u001b[0;34m.\u001b[0m\u001b[0moutput_key\u001b[0m\u001b[0;34m]\u001b[0m\u001b[0;34m\u001b[0m\u001b[0;34m\u001b[0m\u001b[0m\n\u001b[0m\u001b[1;32m    320\u001b[0m \u001b[0;34m\u001b[0m\u001b[0m\n\u001b[1;32m    321\u001b[0m     \u001b[0;32masync\u001b[0m \u001b[0;32mdef\u001b[0m \u001b[0mapredict\u001b[0m\u001b[0;34m(\u001b[0m\u001b[0mself\u001b[0m\u001b[0;34m,\u001b[0m \u001b[0mcallbacks\u001b[0m\u001b[0;34m:\u001b[0m \u001b[0mCallbacks\u001b[0m \u001b[0;34m=\u001b[0m \u001b[0;32mNone\u001b[0m\u001b[0;34m,\u001b[0m \u001b[0;34m**\u001b[0m\u001b[0mkwargs\u001b[0m\u001b[0;34m:\u001b[0m \u001b[0mAny\u001b[0m\u001b[0;34m)\u001b[0m \u001b[0;34m->\u001b[0m \u001b[0mstr\u001b[0m\u001b[0;34m:\u001b[0m\u001b[0;34m\u001b[0m\u001b[0;34m\u001b[0m\u001b[0m\n",
            "\u001b[0;32m/usr/local/lib/python3.11/dist-packages/langchain_core/_api/deprecation.py\u001b[0m in \u001b[0;36mwarning_emitting_wrapper\u001b[0;34m(*args, **kwargs)\u001b[0m\n\u001b[1;32m    187\u001b[0m                 \u001b[0mwarned\u001b[0m \u001b[0;34m=\u001b[0m \u001b[0;32mTrue\u001b[0m\u001b[0;34m\u001b[0m\u001b[0;34m\u001b[0m\u001b[0m\n\u001b[1;32m    188\u001b[0m                 \u001b[0memit_warning\u001b[0m\u001b[0;34m(\u001b[0m\u001b[0;34m)\u001b[0m\u001b[0;34m\u001b[0m\u001b[0;34m\u001b[0m\u001b[0m\n\u001b[0;32m--> 189\u001b[0;31m             \u001b[0;32mreturn\u001b[0m \u001b[0mwrapped\u001b[0m\u001b[0;34m(\u001b[0m\u001b[0;34m*\u001b[0m\u001b[0margs\u001b[0m\u001b[0;34m,\u001b[0m \u001b[0;34m**\u001b[0m\u001b[0mkwargs\u001b[0m\u001b[0;34m)\u001b[0m\u001b[0;34m\u001b[0m\u001b[0;34m\u001b[0m\u001b[0m\n\u001b[0m\u001b[1;32m    190\u001b[0m \u001b[0;34m\u001b[0m\u001b[0m\n\u001b[1;32m    191\u001b[0m         \u001b[0;32masync\u001b[0m \u001b[0;32mdef\u001b[0m \u001b[0mawarning_emitting_wrapper\u001b[0m\u001b[0;34m(\u001b[0m\u001b[0;34m*\u001b[0m\u001b[0margs\u001b[0m\u001b[0;34m:\u001b[0m \u001b[0mAny\u001b[0m\u001b[0;34m,\u001b[0m \u001b[0;34m**\u001b[0m\u001b[0mkwargs\u001b[0m\u001b[0;34m:\u001b[0m \u001b[0mAny\u001b[0m\u001b[0;34m)\u001b[0m \u001b[0;34m->\u001b[0m \u001b[0mAny\u001b[0m\u001b[0;34m:\u001b[0m\u001b[0;34m\u001b[0m\u001b[0;34m\u001b[0m\u001b[0m\n",
            "\u001b[0;32m/usr/local/lib/python3.11/dist-packages/langchain/chains/base.py\u001b[0m in \u001b[0;36m__call__\u001b[0;34m(self, inputs, return_only_outputs, callbacks, tags, metadata, run_name, include_run_info)\u001b[0m\n\u001b[1;32m    384\u001b[0m         }\n\u001b[1;32m    385\u001b[0m \u001b[0;34m\u001b[0m\u001b[0m\n\u001b[0;32m--> 386\u001b[0;31m         return self.invoke(\n\u001b[0m\u001b[1;32m    387\u001b[0m             \u001b[0minputs\u001b[0m\u001b[0;34m,\u001b[0m\u001b[0;34m\u001b[0m\u001b[0;34m\u001b[0m\u001b[0m\n\u001b[1;32m    388\u001b[0m             \u001b[0mcast\u001b[0m\u001b[0;34m(\u001b[0m\u001b[0mRunnableConfig\u001b[0m\u001b[0;34m,\u001b[0m \u001b[0;34m{\u001b[0m\u001b[0mk\u001b[0m\u001b[0;34m:\u001b[0m \u001b[0mv\u001b[0m \u001b[0;32mfor\u001b[0m \u001b[0mk\u001b[0m\u001b[0;34m,\u001b[0m \u001b[0mv\u001b[0m \u001b[0;32min\u001b[0m \u001b[0mconfig\u001b[0m\u001b[0;34m.\u001b[0m\u001b[0mitems\u001b[0m\u001b[0;34m(\u001b[0m\u001b[0;34m)\u001b[0m \u001b[0;32mif\u001b[0m \u001b[0mv\u001b[0m \u001b[0;32mis\u001b[0m \u001b[0;32mnot\u001b[0m \u001b[0;32mNone\u001b[0m\u001b[0;34m}\u001b[0m\u001b[0;34m)\u001b[0m\u001b[0;34m,\u001b[0m\u001b[0;34m\u001b[0m\u001b[0;34m\u001b[0m\u001b[0m\n",
            "\u001b[0;32m/usr/local/lib/python3.11/dist-packages/langchain/chains/base.py\u001b[0m in \u001b[0;36minvoke\u001b[0;34m(self, input, config, **kwargs)\u001b[0m\n\u001b[1;32m    165\u001b[0m         \u001b[0;32mexcept\u001b[0m \u001b[0mBaseException\u001b[0m \u001b[0;32mas\u001b[0m \u001b[0me\u001b[0m\u001b[0;34m:\u001b[0m\u001b[0;34m\u001b[0m\u001b[0;34m\u001b[0m\u001b[0m\n\u001b[1;32m    166\u001b[0m             \u001b[0mrun_manager\u001b[0m\u001b[0;34m.\u001b[0m\u001b[0mon_chain_error\u001b[0m\u001b[0;34m(\u001b[0m\u001b[0me\u001b[0m\u001b[0;34m)\u001b[0m\u001b[0;34m\u001b[0m\u001b[0;34m\u001b[0m\u001b[0m\n\u001b[0;32m--> 167\u001b[0;31m             \u001b[0;32mraise\u001b[0m \u001b[0me\u001b[0m\u001b[0;34m\u001b[0m\u001b[0;34m\u001b[0m\u001b[0m\n\u001b[0m\u001b[1;32m    168\u001b[0m         \u001b[0mrun_manager\u001b[0m\u001b[0;34m.\u001b[0m\u001b[0mon_chain_end\u001b[0m\u001b[0;34m(\u001b[0m\u001b[0moutputs\u001b[0m\u001b[0;34m)\u001b[0m\u001b[0;34m\u001b[0m\u001b[0;34m\u001b[0m\u001b[0m\n\u001b[1;32m    169\u001b[0m \u001b[0;34m\u001b[0m\u001b[0m\n",
            "\u001b[0;32m/usr/local/lib/python3.11/dist-packages/langchain/chains/base.py\u001b[0m in \u001b[0;36minvoke\u001b[0;34m(self, input, config, **kwargs)\u001b[0m\n\u001b[1;32m    155\u001b[0m             \u001b[0mself\u001b[0m\u001b[0;34m.\u001b[0m\u001b[0m_validate_inputs\u001b[0m\u001b[0;34m(\u001b[0m\u001b[0minputs\u001b[0m\u001b[0;34m)\u001b[0m\u001b[0;34m\u001b[0m\u001b[0;34m\u001b[0m\u001b[0m\n\u001b[1;32m    156\u001b[0m             outputs = (\n\u001b[0;32m--> 157\u001b[0;31m                 \u001b[0mself\u001b[0m\u001b[0;34m.\u001b[0m\u001b[0m_call\u001b[0m\u001b[0;34m(\u001b[0m\u001b[0minputs\u001b[0m\u001b[0;34m,\u001b[0m \u001b[0mrun_manager\u001b[0m\u001b[0;34m=\u001b[0m\u001b[0mrun_manager\u001b[0m\u001b[0;34m)\u001b[0m\u001b[0;34m\u001b[0m\u001b[0;34m\u001b[0m\u001b[0m\n\u001b[0m\u001b[1;32m    158\u001b[0m                 \u001b[0;32mif\u001b[0m \u001b[0mnew_arg_supported\u001b[0m\u001b[0;34m\u001b[0m\u001b[0;34m\u001b[0m\u001b[0m\n\u001b[1;32m    159\u001b[0m                 \u001b[0;32melse\u001b[0m \u001b[0mself\u001b[0m\u001b[0;34m.\u001b[0m\u001b[0m_call\u001b[0m\u001b[0;34m(\u001b[0m\u001b[0minputs\u001b[0m\u001b[0;34m)\u001b[0m\u001b[0;34m\u001b[0m\u001b[0;34m\u001b[0m\u001b[0m\n",
            "\u001b[0;32m/usr/local/lib/python3.11/dist-packages/langchain/chains/llm.py\u001b[0m in \u001b[0;36m_call\u001b[0;34m(self, inputs, run_manager)\u001b[0m\n\u001b[1;32m    125\u001b[0m         \u001b[0mrun_manager\u001b[0m\u001b[0;34m:\u001b[0m \u001b[0mOptional\u001b[0m\u001b[0;34m[\u001b[0m\u001b[0mCallbackManagerForChainRun\u001b[0m\u001b[0;34m]\u001b[0m \u001b[0;34m=\u001b[0m \u001b[0;32mNone\u001b[0m\u001b[0;34m,\u001b[0m\u001b[0;34m\u001b[0m\u001b[0;34m\u001b[0m\u001b[0m\n\u001b[1;32m    126\u001b[0m     ) -> dict[str, str]:\n\u001b[0;32m--> 127\u001b[0;31m         \u001b[0mresponse\u001b[0m \u001b[0;34m=\u001b[0m \u001b[0mself\u001b[0m\u001b[0;34m.\u001b[0m\u001b[0mgenerate\u001b[0m\u001b[0;34m(\u001b[0m\u001b[0;34m[\u001b[0m\u001b[0minputs\u001b[0m\u001b[0;34m]\u001b[0m\u001b[0;34m,\u001b[0m \u001b[0mrun_manager\u001b[0m\u001b[0;34m=\u001b[0m\u001b[0mrun_manager\u001b[0m\u001b[0;34m)\u001b[0m\u001b[0;34m\u001b[0m\u001b[0;34m\u001b[0m\u001b[0m\n\u001b[0m\u001b[1;32m    128\u001b[0m         \u001b[0;32mreturn\u001b[0m \u001b[0mself\u001b[0m\u001b[0;34m.\u001b[0m\u001b[0mcreate_outputs\u001b[0m\u001b[0;34m(\u001b[0m\u001b[0mresponse\u001b[0m\u001b[0;34m)\u001b[0m\u001b[0;34m[\u001b[0m\u001b[0;36m0\u001b[0m\u001b[0;34m]\u001b[0m\u001b[0;34m\u001b[0m\u001b[0;34m\u001b[0m\u001b[0m\n\u001b[1;32m    129\u001b[0m \u001b[0;34m\u001b[0m\u001b[0m\n",
            "\u001b[0;32m/usr/local/lib/python3.11/dist-packages/langchain/chains/llm.py\u001b[0m in \u001b[0;36mgenerate\u001b[0;34m(self, input_list, run_manager)\u001b[0m\n\u001b[1;32m    137\u001b[0m         \u001b[0mcallbacks\u001b[0m \u001b[0;34m=\u001b[0m \u001b[0mrun_manager\u001b[0m\u001b[0;34m.\u001b[0m\u001b[0mget_child\u001b[0m\u001b[0;34m(\u001b[0m\u001b[0;34m)\u001b[0m \u001b[0;32mif\u001b[0m \u001b[0mrun_manager\u001b[0m \u001b[0;32melse\u001b[0m \u001b[0;32mNone\u001b[0m\u001b[0;34m\u001b[0m\u001b[0;34m\u001b[0m\u001b[0m\n\u001b[1;32m    138\u001b[0m         \u001b[0;32mif\u001b[0m \u001b[0misinstance\u001b[0m\u001b[0;34m(\u001b[0m\u001b[0mself\u001b[0m\u001b[0;34m.\u001b[0m\u001b[0mllm\u001b[0m\u001b[0;34m,\u001b[0m \u001b[0mBaseLanguageModel\u001b[0m\u001b[0;34m)\u001b[0m\u001b[0;34m:\u001b[0m\u001b[0;34m\u001b[0m\u001b[0;34m\u001b[0m\u001b[0m\n\u001b[0;32m--> 139\u001b[0;31m             return self.llm.generate_prompt(\n\u001b[0m\u001b[1;32m    140\u001b[0m                 \u001b[0mprompts\u001b[0m\u001b[0;34m,\u001b[0m\u001b[0;34m\u001b[0m\u001b[0;34m\u001b[0m\u001b[0m\n\u001b[1;32m    141\u001b[0m                 \u001b[0mstop\u001b[0m\u001b[0;34m,\u001b[0m\u001b[0;34m\u001b[0m\u001b[0;34m\u001b[0m\u001b[0m\n",
            "\u001b[0;32m/usr/local/lib/python3.11/dist-packages/langchain_core/language_models/llms.py\u001b[0m in \u001b[0;36mgenerate_prompt\u001b[0;34m(self, prompts, stop, callbacks, **kwargs)\u001b[0m\n\u001b[1;32m    764\u001b[0m     ) -> LLMResult:\n\u001b[1;32m    765\u001b[0m         \u001b[0mprompt_strings\u001b[0m \u001b[0;34m=\u001b[0m \u001b[0;34m[\u001b[0m\u001b[0mp\u001b[0m\u001b[0;34m.\u001b[0m\u001b[0mto_string\u001b[0m\u001b[0;34m(\u001b[0m\u001b[0;34m)\u001b[0m \u001b[0;32mfor\u001b[0m \u001b[0mp\u001b[0m \u001b[0;32min\u001b[0m \u001b[0mprompts\u001b[0m\u001b[0;34m]\u001b[0m\u001b[0;34m\u001b[0m\u001b[0;34m\u001b[0m\u001b[0m\n\u001b[0;32m--> 766\u001b[0;31m         \u001b[0;32mreturn\u001b[0m \u001b[0mself\u001b[0m\u001b[0;34m.\u001b[0m\u001b[0mgenerate\u001b[0m\u001b[0;34m(\u001b[0m\u001b[0mprompt_strings\u001b[0m\u001b[0;34m,\u001b[0m \u001b[0mstop\u001b[0m\u001b[0;34m=\u001b[0m\u001b[0mstop\u001b[0m\u001b[0;34m,\u001b[0m \u001b[0mcallbacks\u001b[0m\u001b[0;34m=\u001b[0m\u001b[0mcallbacks\u001b[0m\u001b[0;34m,\u001b[0m \u001b[0;34m**\u001b[0m\u001b[0mkwargs\u001b[0m\u001b[0;34m)\u001b[0m\u001b[0;34m\u001b[0m\u001b[0;34m\u001b[0m\u001b[0m\n\u001b[0m\u001b[1;32m    767\u001b[0m \u001b[0;34m\u001b[0m\u001b[0m\n\u001b[1;32m    768\u001b[0m     \u001b[0;34m@\u001b[0m\u001b[0moverride\u001b[0m\u001b[0;34m\u001b[0m\u001b[0;34m\u001b[0m\u001b[0m\n",
            "\u001b[0;32m/usr/local/lib/python3.11/dist-packages/langchain_core/language_models/llms.py\u001b[0m in \u001b[0;36mgenerate\u001b[0;34m(self, prompts, stop, callbacks, tags, metadata, run_name, run_id, **kwargs)\u001b[0m\n\u001b[1;32m    969\u001b[0m                 )\n\u001b[1;32m    970\u001b[0m             ]\n\u001b[0;32m--> 971\u001b[0;31m             return self._generate_helper(\n\u001b[0m\u001b[1;32m    972\u001b[0m                 \u001b[0mprompts\u001b[0m\u001b[0;34m,\u001b[0m\u001b[0;34m\u001b[0m\u001b[0;34m\u001b[0m\u001b[0m\n\u001b[1;32m    973\u001b[0m                 \u001b[0mstop\u001b[0m\u001b[0;34m,\u001b[0m\u001b[0;34m\u001b[0m\u001b[0;34m\u001b[0m\u001b[0m\n",
            "\u001b[0;32m/usr/local/lib/python3.11/dist-packages/langchain_core/language_models/llms.py\u001b[0m in \u001b[0;36m_generate_helper\u001b[0;34m(self, prompts, stop, run_managers, new_arg_supported, **kwargs)\u001b[0m\n\u001b[1;32m    790\u001b[0m         \u001b[0;32mtry\u001b[0m\u001b[0;34m:\u001b[0m\u001b[0;34m\u001b[0m\u001b[0;34m\u001b[0m\u001b[0m\n\u001b[1;32m    791\u001b[0m             output = (\n\u001b[0;32m--> 792\u001b[0;31m                 self._generate(\n\u001b[0m\u001b[1;32m    793\u001b[0m                     \u001b[0mprompts\u001b[0m\u001b[0;34m,\u001b[0m\u001b[0;34m\u001b[0m\u001b[0;34m\u001b[0m\u001b[0m\n\u001b[1;32m    794\u001b[0m                     \u001b[0mstop\u001b[0m\u001b[0;34m=\u001b[0m\u001b[0mstop\u001b[0m\u001b[0;34m,\u001b[0m\u001b[0;34m\u001b[0m\u001b[0;34m\u001b[0m\u001b[0m\n",
            "\u001b[0;32m/usr/local/lib/python3.11/dist-packages/langchain_community/llms/huggingface_pipeline.py\u001b[0m in \u001b[0;36m_generate\u001b[0;34m(self, prompts, stop, run_manager, **kwargs)\u001b[0m\n\u001b[1;32m    283\u001b[0m \u001b[0;34m\u001b[0m\u001b[0m\n\u001b[1;32m    284\u001b[0m             \u001b[0;31m# Process batch of prompts\u001b[0m\u001b[0;34m\u001b[0m\u001b[0;34m\u001b[0m\u001b[0m\n\u001b[0;32m--> 285\u001b[0;31m             responses = self.pipeline(\n\u001b[0m\u001b[1;32m    286\u001b[0m                 \u001b[0mbatch_prompts\u001b[0m\u001b[0;34m,\u001b[0m\u001b[0;34m\u001b[0m\u001b[0;34m\u001b[0m\u001b[0m\n\u001b[1;32m    287\u001b[0m                 \u001b[0;34m**\u001b[0m\u001b[0mpipeline_kwargs\u001b[0m\u001b[0;34m,\u001b[0m\u001b[0;34m\u001b[0m\u001b[0;34m\u001b[0m\u001b[0m\n",
            "\u001b[0;32m/usr/local/lib/python3.11/dist-packages/transformers/pipelines/text_generation.py\u001b[0m in \u001b[0;36m__call__\u001b[0;34m(self, text_inputs, **kwargs)\u001b[0m\n\u001b[1;32m    314\u001b[0m                     \u001b[0;32melse\u001b[0m\u001b[0;34m:\u001b[0m\u001b[0;34m\u001b[0m\u001b[0;34m\u001b[0m\u001b[0m\n\u001b[1;32m    315\u001b[0m                         \u001b[0;32mreturn\u001b[0m \u001b[0msuper\u001b[0m\u001b[0;34m(\u001b[0m\u001b[0;34m)\u001b[0m\u001b[0;34m.\u001b[0m\u001b[0m__call__\u001b[0m\u001b[0;34m(\u001b[0m\u001b[0mlist\u001b[0m\u001b[0;34m(\u001b[0m\u001b[0mchats\u001b[0m\u001b[0;34m)\u001b[0m\u001b[0;34m,\u001b[0m \u001b[0;34m**\u001b[0m\u001b[0mkwargs\u001b[0m\u001b[0;34m)\u001b[0m\u001b[0;34m\u001b[0m\u001b[0;34m\u001b[0m\u001b[0m\n\u001b[0;32m--> 316\u001b[0;31m         \u001b[0;32mreturn\u001b[0m \u001b[0msuper\u001b[0m\u001b[0;34m(\u001b[0m\u001b[0;34m)\u001b[0m\u001b[0;34m.\u001b[0m\u001b[0m__call__\u001b[0m\u001b[0;34m(\u001b[0m\u001b[0mtext_inputs\u001b[0m\u001b[0;34m,\u001b[0m \u001b[0;34m**\u001b[0m\u001b[0mkwargs\u001b[0m\u001b[0;34m)\u001b[0m\u001b[0;34m\u001b[0m\u001b[0;34m\u001b[0m\u001b[0m\n\u001b[0m\u001b[1;32m    317\u001b[0m \u001b[0;34m\u001b[0m\u001b[0m\n\u001b[1;32m    318\u001b[0m     def preprocess(\n",
            "\u001b[0;32m/usr/local/lib/python3.11/dist-packages/transformers/pipelines/base.py\u001b[0m in \u001b[0;36m__call__\u001b[0;34m(self, inputs, num_workers, batch_size, *args, **kwargs)\u001b[0m\n\u001b[1;32m   1443\u001b[0m                     \u001b[0minputs\u001b[0m\u001b[0;34m,\u001b[0m \u001b[0mnum_workers\u001b[0m\u001b[0;34m,\u001b[0m \u001b[0mbatch_size\u001b[0m\u001b[0;34m,\u001b[0m \u001b[0mpreprocess_params\u001b[0m\u001b[0;34m,\u001b[0m \u001b[0mforward_params\u001b[0m\u001b[0;34m,\u001b[0m \u001b[0mpostprocess_params\u001b[0m\u001b[0;34m\u001b[0m\u001b[0;34m\u001b[0m\u001b[0m\n\u001b[1;32m   1444\u001b[0m                 )\n\u001b[0;32m-> 1445\u001b[0;31m                 \u001b[0moutputs\u001b[0m \u001b[0;34m=\u001b[0m \u001b[0mlist\u001b[0m\u001b[0;34m(\u001b[0m\u001b[0mfinal_iterator\u001b[0m\u001b[0;34m)\u001b[0m\u001b[0;34m\u001b[0m\u001b[0;34m\u001b[0m\u001b[0m\n\u001b[0m\u001b[1;32m   1446\u001b[0m                 \u001b[0;32mreturn\u001b[0m \u001b[0moutputs\u001b[0m\u001b[0;34m\u001b[0m\u001b[0;34m\u001b[0m\u001b[0m\n\u001b[1;32m   1447\u001b[0m             \u001b[0;32melse\u001b[0m\u001b[0;34m:\u001b[0m\u001b[0;34m\u001b[0m\u001b[0;34m\u001b[0m\u001b[0m\n",
            "\u001b[0;32m/usr/local/lib/python3.11/dist-packages/transformers/pipelines/pt_utils.py\u001b[0m in \u001b[0;36m__next__\u001b[0;34m(self)\u001b[0m\n\u001b[1;32m    122\u001b[0m \u001b[0;34m\u001b[0m\u001b[0m\n\u001b[1;32m    123\u001b[0m         \u001b[0;31m# We're out of items within a batch\u001b[0m\u001b[0;34m\u001b[0m\u001b[0;34m\u001b[0m\u001b[0m\n\u001b[0;32m--> 124\u001b[0;31m         \u001b[0mitem\u001b[0m \u001b[0;34m=\u001b[0m \u001b[0mnext\u001b[0m\u001b[0;34m(\u001b[0m\u001b[0mself\u001b[0m\u001b[0;34m.\u001b[0m\u001b[0miterator\u001b[0m\u001b[0;34m)\u001b[0m\u001b[0;34m\u001b[0m\u001b[0;34m\u001b[0m\u001b[0m\n\u001b[0m\u001b[1;32m    125\u001b[0m         \u001b[0mprocessed\u001b[0m \u001b[0;34m=\u001b[0m \u001b[0mself\u001b[0m\u001b[0;34m.\u001b[0m\u001b[0minfer\u001b[0m\u001b[0;34m(\u001b[0m\u001b[0mitem\u001b[0m\u001b[0;34m,\u001b[0m \u001b[0;34m**\u001b[0m\u001b[0mself\u001b[0m\u001b[0;34m.\u001b[0m\u001b[0mparams\u001b[0m\u001b[0;34m)\u001b[0m\u001b[0;34m\u001b[0m\u001b[0;34m\u001b[0m\u001b[0m\n\u001b[1;32m    126\u001b[0m         \u001b[0;31m# We now have a batch of \"inferred things\".\u001b[0m\u001b[0;34m\u001b[0m\u001b[0;34m\u001b[0m\u001b[0m\n",
            "\u001b[0;32m/usr/local/lib/python3.11/dist-packages/transformers/pipelines/pt_utils.py\u001b[0m in \u001b[0;36m__next__\u001b[0;34m(self)\u001b[0m\n\u001b[1;32m    123\u001b[0m         \u001b[0;31m# We're out of items within a batch\u001b[0m\u001b[0;34m\u001b[0m\u001b[0;34m\u001b[0m\u001b[0m\n\u001b[1;32m    124\u001b[0m         \u001b[0mitem\u001b[0m \u001b[0;34m=\u001b[0m \u001b[0mnext\u001b[0m\u001b[0;34m(\u001b[0m\u001b[0mself\u001b[0m\u001b[0;34m.\u001b[0m\u001b[0miterator\u001b[0m\u001b[0;34m)\u001b[0m\u001b[0;34m\u001b[0m\u001b[0;34m\u001b[0m\u001b[0m\n\u001b[0;32m--> 125\u001b[0;31m         \u001b[0mprocessed\u001b[0m \u001b[0;34m=\u001b[0m \u001b[0mself\u001b[0m\u001b[0;34m.\u001b[0m\u001b[0minfer\u001b[0m\u001b[0;34m(\u001b[0m\u001b[0mitem\u001b[0m\u001b[0;34m,\u001b[0m \u001b[0;34m**\u001b[0m\u001b[0mself\u001b[0m\u001b[0;34m.\u001b[0m\u001b[0mparams\u001b[0m\u001b[0;34m)\u001b[0m\u001b[0;34m\u001b[0m\u001b[0;34m\u001b[0m\u001b[0m\n\u001b[0m\u001b[1;32m    126\u001b[0m         \u001b[0;31m# We now have a batch of \"inferred things\".\u001b[0m\u001b[0;34m\u001b[0m\u001b[0;34m\u001b[0m\u001b[0m\n\u001b[1;32m    127\u001b[0m         \u001b[0;32mif\u001b[0m \u001b[0mself\u001b[0m\u001b[0;34m.\u001b[0m\u001b[0mloader_batch_size\u001b[0m \u001b[0;32mis\u001b[0m \u001b[0;32mnot\u001b[0m \u001b[0;32mNone\u001b[0m\u001b[0;34m:\u001b[0m\u001b[0;34m\u001b[0m\u001b[0;34m\u001b[0m\u001b[0m\n",
            "\u001b[0;32m/usr/local/lib/python3.11/dist-packages/transformers/pipelines/base.py\u001b[0m in \u001b[0;36mforward\u001b[0;34m(self, model_inputs, **forward_params)\u001b[0m\n\u001b[1;32m   1369\u001b[0m                 \u001b[0;32mwith\u001b[0m \u001b[0minference_context\u001b[0m\u001b[0;34m(\u001b[0m\u001b[0;34m)\u001b[0m\u001b[0;34m:\u001b[0m\u001b[0;34m\u001b[0m\u001b[0;34m\u001b[0m\u001b[0m\n\u001b[1;32m   1370\u001b[0m                     \u001b[0mmodel_inputs\u001b[0m \u001b[0;34m=\u001b[0m \u001b[0mself\u001b[0m\u001b[0;34m.\u001b[0m\u001b[0m_ensure_tensor_on_device\u001b[0m\u001b[0;34m(\u001b[0m\u001b[0mmodel_inputs\u001b[0m\u001b[0;34m,\u001b[0m \u001b[0mdevice\u001b[0m\u001b[0;34m=\u001b[0m\u001b[0mself\u001b[0m\u001b[0;34m.\u001b[0m\u001b[0mdevice\u001b[0m\u001b[0;34m)\u001b[0m\u001b[0;34m\u001b[0m\u001b[0;34m\u001b[0m\u001b[0m\n\u001b[0;32m-> 1371\u001b[0;31m                     \u001b[0mmodel_outputs\u001b[0m \u001b[0;34m=\u001b[0m \u001b[0mself\u001b[0m\u001b[0;34m.\u001b[0m\u001b[0m_forward\u001b[0m\u001b[0;34m(\u001b[0m\u001b[0mmodel_inputs\u001b[0m\u001b[0;34m,\u001b[0m \u001b[0;34m**\u001b[0m\u001b[0mforward_params\u001b[0m\u001b[0;34m)\u001b[0m\u001b[0;34m\u001b[0m\u001b[0;34m\u001b[0m\u001b[0m\n\u001b[0m\u001b[1;32m   1372\u001b[0m                     \u001b[0mmodel_outputs\u001b[0m \u001b[0;34m=\u001b[0m \u001b[0mself\u001b[0m\u001b[0;34m.\u001b[0m\u001b[0m_ensure_tensor_on_device\u001b[0m\u001b[0;34m(\u001b[0m\u001b[0mmodel_outputs\u001b[0m\u001b[0;34m,\u001b[0m \u001b[0mdevice\u001b[0m\u001b[0;34m=\u001b[0m\u001b[0mtorch\u001b[0m\u001b[0;34m.\u001b[0m\u001b[0mdevice\u001b[0m\u001b[0;34m(\u001b[0m\u001b[0;34m\"cpu\"\u001b[0m\u001b[0;34m)\u001b[0m\u001b[0;34m)\u001b[0m\u001b[0;34m\u001b[0m\u001b[0;34m\u001b[0m\u001b[0m\n\u001b[1;32m   1373\u001b[0m             \u001b[0;32melse\u001b[0m\u001b[0;34m:\u001b[0m\u001b[0;34m\u001b[0m\u001b[0;34m\u001b[0m\u001b[0m\n",
            "\u001b[0;32m/usr/local/lib/python3.11/dist-packages/transformers/pipelines/text_generation.py\u001b[0m in \u001b[0;36m_forward\u001b[0;34m(self, model_inputs, **generate_kwargs)\u001b[0m\n\u001b[1;32m    412\u001b[0m             \u001b[0mgenerate_kwargs\u001b[0m\u001b[0;34m[\u001b[0m\u001b[0;34m\"generation_config\"\u001b[0m\u001b[0;34m]\u001b[0m \u001b[0;34m=\u001b[0m \u001b[0mself\u001b[0m\u001b[0;34m.\u001b[0m\u001b[0mgeneration_config\u001b[0m\u001b[0;34m\u001b[0m\u001b[0;34m\u001b[0m\u001b[0m\n\u001b[1;32m    413\u001b[0m \u001b[0;34m\u001b[0m\u001b[0m\n\u001b[0;32m--> 414\u001b[0;31m         \u001b[0moutput\u001b[0m \u001b[0;34m=\u001b[0m \u001b[0mself\u001b[0m\u001b[0;34m.\u001b[0m\u001b[0mmodel\u001b[0m\u001b[0;34m.\u001b[0m\u001b[0mgenerate\u001b[0m\u001b[0;34m(\u001b[0m\u001b[0minput_ids\u001b[0m\u001b[0;34m=\u001b[0m\u001b[0minput_ids\u001b[0m\u001b[0;34m,\u001b[0m \u001b[0mattention_mask\u001b[0m\u001b[0;34m=\u001b[0m\u001b[0mattention_mask\u001b[0m\u001b[0;34m,\u001b[0m \u001b[0;34m**\u001b[0m\u001b[0mgenerate_kwargs\u001b[0m\u001b[0;34m)\u001b[0m\u001b[0;34m\u001b[0m\u001b[0;34m\u001b[0m\u001b[0m\n\u001b[0m\u001b[1;32m    415\u001b[0m \u001b[0;34m\u001b[0m\u001b[0m\n\u001b[1;32m    416\u001b[0m         \u001b[0;32mif\u001b[0m \u001b[0misinstance\u001b[0m\u001b[0;34m(\u001b[0m\u001b[0moutput\u001b[0m\u001b[0;34m,\u001b[0m \u001b[0mModelOutput\u001b[0m\u001b[0;34m)\u001b[0m\u001b[0;34m:\u001b[0m\u001b[0;34m\u001b[0m\u001b[0;34m\u001b[0m\u001b[0m\n",
            "\u001b[0;32m/usr/local/lib/python3.11/dist-packages/torch/utils/_contextlib.py\u001b[0m in \u001b[0;36mdecorate_context\u001b[0;34m(*args, **kwargs)\u001b[0m\n\u001b[1;32m    114\u001b[0m     \u001b[0;32mdef\u001b[0m \u001b[0mdecorate_context\u001b[0m\u001b[0;34m(\u001b[0m\u001b[0;34m*\u001b[0m\u001b[0margs\u001b[0m\u001b[0;34m,\u001b[0m \u001b[0;34m**\u001b[0m\u001b[0mkwargs\u001b[0m\u001b[0;34m)\u001b[0m\u001b[0;34m:\u001b[0m\u001b[0;34m\u001b[0m\u001b[0;34m\u001b[0m\u001b[0m\n\u001b[1;32m    115\u001b[0m         \u001b[0;32mwith\u001b[0m \u001b[0mctx_factory\u001b[0m\u001b[0;34m(\u001b[0m\u001b[0;34m)\u001b[0m\u001b[0;34m:\u001b[0m\u001b[0;34m\u001b[0m\u001b[0;34m\u001b[0m\u001b[0m\n\u001b[0;32m--> 116\u001b[0;31m             \u001b[0;32mreturn\u001b[0m \u001b[0mfunc\u001b[0m\u001b[0;34m(\u001b[0m\u001b[0;34m*\u001b[0m\u001b[0margs\u001b[0m\u001b[0;34m,\u001b[0m \u001b[0;34m**\u001b[0m\u001b[0mkwargs\u001b[0m\u001b[0;34m)\u001b[0m\u001b[0;34m\u001b[0m\u001b[0;34m\u001b[0m\u001b[0m\n\u001b[0m\u001b[1;32m    117\u001b[0m \u001b[0;34m\u001b[0m\u001b[0m\n\u001b[1;32m    118\u001b[0m     \u001b[0;32mreturn\u001b[0m \u001b[0mdecorate_context\u001b[0m\u001b[0;34m\u001b[0m\u001b[0;34m\u001b[0m\u001b[0m\n",
            "\u001b[0;32m/usr/local/lib/python3.11/dist-packages/transformers/generation/utils.py\u001b[0m in \u001b[0;36mgenerate\u001b[0;34m(self, inputs, generation_config, logits_processor, stopping_criteria, prefix_allowed_tokens_fn, synced_gpus, assistant_model, streamer, negative_prompt_ids, negative_prompt_attention_mask, use_model_defaults, custom_generate, **kwargs)\u001b[0m\n\u001b[1;32m   2642\u001b[0m             )\n\u001b[1;32m   2643\u001b[0m             \u001b[0;31m# 12. run beam sample\u001b[0m\u001b[0;34m\u001b[0m\u001b[0;34m\u001b[0m\u001b[0m\n\u001b[0;32m-> 2644\u001b[0;31m             result = self._beam_search(\n\u001b[0m\u001b[1;32m   2645\u001b[0m                 \u001b[0minput_ids\u001b[0m\u001b[0;34m,\u001b[0m\u001b[0;34m\u001b[0m\u001b[0;34m\u001b[0m\u001b[0m\n\u001b[1;32m   2646\u001b[0m                 \u001b[0mlogits_processor\u001b[0m\u001b[0;34m=\u001b[0m\u001b[0mprepared_logits_processor\u001b[0m\u001b[0;34m,\u001b[0m\u001b[0;34m\u001b[0m\u001b[0;34m\u001b[0m\u001b[0m\n",
            "\u001b[0;32m/usr/local/lib/python3.11/dist-packages/transformers/generation/utils.py\u001b[0m in \u001b[0;36m_beam_search\u001b[0;34m(self, input_ids, logits_processor, stopping_criteria, generation_config, synced_gpus, **model_kwargs)\u001b[0m\n\u001b[1;32m   4077\u001b[0m             \u001b[0mmodel_inputs\u001b[0m\u001b[0;34m.\u001b[0m\u001b[0mupdate\u001b[0m\u001b[0;34m(\u001b[0m\u001b[0;34m{\u001b[0m\u001b[0;34m\"output_hidden_states\"\u001b[0m\u001b[0;34m:\u001b[0m \u001b[0moutput_hidden_states\u001b[0m\u001b[0;34m}\u001b[0m \u001b[0;32mif\u001b[0m \u001b[0moutput_hidden_states\u001b[0m \u001b[0;32melse\u001b[0m \u001b[0;34m{\u001b[0m\u001b[0;34m}\u001b[0m\u001b[0;34m)\u001b[0m\u001b[0;34m\u001b[0m\u001b[0;34m\u001b[0m\u001b[0m\n\u001b[1;32m   4078\u001b[0m \u001b[0;34m\u001b[0m\u001b[0m\n\u001b[0;32m-> 4079\u001b[0;31m             \u001b[0mmodel_outputs\u001b[0m \u001b[0;34m=\u001b[0m \u001b[0mself\u001b[0m\u001b[0;34m(\u001b[0m\u001b[0;34m**\u001b[0m\u001b[0mmodel_inputs\u001b[0m\u001b[0;34m,\u001b[0m \u001b[0mreturn_dict\u001b[0m\u001b[0;34m=\u001b[0m\u001b[0;32mTrue\u001b[0m\u001b[0;34m)\u001b[0m\u001b[0;34m\u001b[0m\u001b[0;34m\u001b[0m\u001b[0m\n\u001b[0m\u001b[1;32m   4080\u001b[0m \u001b[0;34m\u001b[0m\u001b[0m\n\u001b[1;32m   4081\u001b[0m             \u001b[0;31m# synced_gpus: don't waste resources running the code we don't need; kwargs must be updated before skipping\u001b[0m\u001b[0;34m\u001b[0m\u001b[0;34m\u001b[0m\u001b[0m\n",
            "\u001b[0;32m/usr/local/lib/python3.11/dist-packages/torch/nn/modules/module.py\u001b[0m in \u001b[0;36m_wrapped_call_impl\u001b[0;34m(self, *args, **kwargs)\u001b[0m\n\u001b[1;32m   1737\u001b[0m             \u001b[0;32mreturn\u001b[0m \u001b[0mself\u001b[0m\u001b[0;34m.\u001b[0m\u001b[0m_compiled_call_impl\u001b[0m\u001b[0;34m(\u001b[0m\u001b[0;34m*\u001b[0m\u001b[0margs\u001b[0m\u001b[0;34m,\u001b[0m \u001b[0;34m**\u001b[0m\u001b[0mkwargs\u001b[0m\u001b[0;34m)\u001b[0m  \u001b[0;31m# type: ignore[misc]\u001b[0m\u001b[0;34m\u001b[0m\u001b[0;34m\u001b[0m\u001b[0m\n\u001b[1;32m   1738\u001b[0m         \u001b[0;32melse\u001b[0m\u001b[0;34m:\u001b[0m\u001b[0;34m\u001b[0m\u001b[0;34m\u001b[0m\u001b[0m\n\u001b[0;32m-> 1739\u001b[0;31m             \u001b[0;32mreturn\u001b[0m \u001b[0mself\u001b[0m\u001b[0;34m.\u001b[0m\u001b[0m_call_impl\u001b[0m\u001b[0;34m(\u001b[0m\u001b[0;34m*\u001b[0m\u001b[0margs\u001b[0m\u001b[0;34m,\u001b[0m \u001b[0;34m**\u001b[0m\u001b[0mkwargs\u001b[0m\u001b[0;34m)\u001b[0m\u001b[0;34m\u001b[0m\u001b[0;34m\u001b[0m\u001b[0m\n\u001b[0m\u001b[1;32m   1740\u001b[0m \u001b[0;34m\u001b[0m\u001b[0m\n\u001b[1;32m   1741\u001b[0m     \u001b[0;31m# torchrec tests the code consistency with the following code\u001b[0m\u001b[0;34m\u001b[0m\u001b[0;34m\u001b[0m\u001b[0m\n",
            "\u001b[0;32m/usr/local/lib/python3.11/dist-packages/torch/nn/modules/module.py\u001b[0m in \u001b[0;36m_call_impl\u001b[0;34m(self, *args, **kwargs)\u001b[0m\n\u001b[1;32m   1748\u001b[0m                 \u001b[0;32mor\u001b[0m \u001b[0m_global_backward_pre_hooks\u001b[0m \u001b[0;32mor\u001b[0m \u001b[0m_global_backward_hooks\u001b[0m\u001b[0;34m\u001b[0m\u001b[0;34m\u001b[0m\u001b[0m\n\u001b[1;32m   1749\u001b[0m                 or _global_forward_hooks or _global_forward_pre_hooks):\n\u001b[0;32m-> 1750\u001b[0;31m             \u001b[0;32mreturn\u001b[0m \u001b[0mforward_call\u001b[0m\u001b[0;34m(\u001b[0m\u001b[0;34m*\u001b[0m\u001b[0margs\u001b[0m\u001b[0;34m,\u001b[0m \u001b[0;34m**\u001b[0m\u001b[0mkwargs\u001b[0m\u001b[0;34m)\u001b[0m\u001b[0;34m\u001b[0m\u001b[0;34m\u001b[0m\u001b[0m\n\u001b[0m\u001b[1;32m   1751\u001b[0m \u001b[0;34m\u001b[0m\u001b[0m\n\u001b[1;32m   1752\u001b[0m         \u001b[0mresult\u001b[0m \u001b[0;34m=\u001b[0m \u001b[0;32mNone\u001b[0m\u001b[0;34m\u001b[0m\u001b[0;34m\u001b[0m\u001b[0m\n",
            "\u001b[0;32m/usr/local/lib/python3.11/dist-packages/transformers/models/bart/modeling_bart.py\u001b[0m in \u001b[0;36mforward\u001b[0;34m(self, input_ids, attention_mask, encoder_hidden_states, encoder_attention_mask, head_mask, cross_attn_head_mask, past_key_values, inputs_embeds, labels, use_cache, output_attentions, output_hidden_states, return_dict, cache_position)\u001b[0m\n\u001b[1;32m   1945\u001b[0m \u001b[0;34m\u001b[0m\u001b[0m\n\u001b[1;32m   1946\u001b[0m         \u001b[0;31m# decoder outputs consists of (dec_features, layer_state, dec_hidden, dec_attn)\u001b[0m\u001b[0;34m\u001b[0m\u001b[0;34m\u001b[0m\u001b[0m\n\u001b[0;32m-> 1947\u001b[0;31m         outputs = self.model.decoder(\n\u001b[0m\u001b[1;32m   1948\u001b[0m             \u001b[0minput_ids\u001b[0m\u001b[0;34m=\u001b[0m\u001b[0minput_ids\u001b[0m\u001b[0;34m,\u001b[0m\u001b[0;34m\u001b[0m\u001b[0;34m\u001b[0m\u001b[0m\n\u001b[1;32m   1949\u001b[0m             \u001b[0mattention_mask\u001b[0m\u001b[0;34m=\u001b[0m\u001b[0mattention_mask\u001b[0m\u001b[0;34m,\u001b[0m\u001b[0;34m\u001b[0m\u001b[0;34m\u001b[0m\u001b[0m\n",
            "\u001b[0;32m/usr/local/lib/python3.11/dist-packages/torch/nn/modules/module.py\u001b[0m in \u001b[0;36m_wrapped_call_impl\u001b[0;34m(self, *args, **kwargs)\u001b[0m\n\u001b[1;32m   1737\u001b[0m             \u001b[0;32mreturn\u001b[0m \u001b[0mself\u001b[0m\u001b[0;34m.\u001b[0m\u001b[0m_compiled_call_impl\u001b[0m\u001b[0;34m(\u001b[0m\u001b[0;34m*\u001b[0m\u001b[0margs\u001b[0m\u001b[0;34m,\u001b[0m \u001b[0;34m**\u001b[0m\u001b[0mkwargs\u001b[0m\u001b[0;34m)\u001b[0m  \u001b[0;31m# type: ignore[misc]\u001b[0m\u001b[0;34m\u001b[0m\u001b[0;34m\u001b[0m\u001b[0m\n\u001b[1;32m   1738\u001b[0m         \u001b[0;32melse\u001b[0m\u001b[0;34m:\u001b[0m\u001b[0;34m\u001b[0m\u001b[0;34m\u001b[0m\u001b[0m\n\u001b[0;32m-> 1739\u001b[0;31m             \u001b[0;32mreturn\u001b[0m \u001b[0mself\u001b[0m\u001b[0;34m.\u001b[0m\u001b[0m_call_impl\u001b[0m\u001b[0;34m(\u001b[0m\u001b[0;34m*\u001b[0m\u001b[0margs\u001b[0m\u001b[0;34m,\u001b[0m \u001b[0;34m**\u001b[0m\u001b[0mkwargs\u001b[0m\u001b[0;34m)\u001b[0m\u001b[0;34m\u001b[0m\u001b[0;34m\u001b[0m\u001b[0m\n\u001b[0m\u001b[1;32m   1740\u001b[0m \u001b[0;34m\u001b[0m\u001b[0m\n\u001b[1;32m   1741\u001b[0m     \u001b[0;31m# torchrec tests the code consistency with the following code\u001b[0m\u001b[0;34m\u001b[0m\u001b[0;34m\u001b[0m\u001b[0m\n",
            "\u001b[0;32m/usr/local/lib/python3.11/dist-packages/torch/nn/modules/module.py\u001b[0m in \u001b[0;36m_call_impl\u001b[0;34m(self, *args, **kwargs)\u001b[0m\n\u001b[1;32m   1748\u001b[0m                 \u001b[0;32mor\u001b[0m \u001b[0m_global_backward_pre_hooks\u001b[0m \u001b[0;32mor\u001b[0m \u001b[0m_global_backward_hooks\u001b[0m\u001b[0;34m\u001b[0m\u001b[0;34m\u001b[0m\u001b[0m\n\u001b[1;32m   1749\u001b[0m                 or _global_forward_hooks or _global_forward_pre_hooks):\n\u001b[0;32m-> 1750\u001b[0;31m             \u001b[0;32mreturn\u001b[0m \u001b[0mforward_call\u001b[0m\u001b[0;34m(\u001b[0m\u001b[0;34m*\u001b[0m\u001b[0margs\u001b[0m\u001b[0;34m,\u001b[0m \u001b[0;34m**\u001b[0m\u001b[0mkwargs\u001b[0m\u001b[0;34m)\u001b[0m\u001b[0;34m\u001b[0m\u001b[0;34m\u001b[0m\u001b[0m\n\u001b[0m\u001b[1;32m   1751\u001b[0m \u001b[0;34m\u001b[0m\u001b[0m\n\u001b[1;32m   1752\u001b[0m         \u001b[0mresult\u001b[0m \u001b[0;34m=\u001b[0m \u001b[0;32mNone\u001b[0m\u001b[0;34m\u001b[0m\u001b[0;34m\u001b[0m\u001b[0m\n",
            "\u001b[0;32m/usr/local/lib/python3.11/dist-packages/transformers/models/bart/modeling_bart.py\u001b[0m in \u001b[0;36mforward\u001b[0;34m(self, input_ids, attention_mask, encoder_hidden_states, encoder_attention_mask, head_mask, cross_attn_head_mask, past_key_values, inputs_embeds, use_cache, output_attentions, output_hidden_states, return_dict, cache_position)\u001b[0m\n\u001b[1;32m   1098\u001b[0m \u001b[0;34m\u001b[0m\u001b[0m\n\u001b[1;32m   1099\u001b[0m         \u001b[0;31m# embed positions\u001b[0m\u001b[0;34m\u001b[0m\u001b[0;34m\u001b[0m\u001b[0m\n\u001b[0;32m-> 1100\u001b[0;31m         \u001b[0mpositions\u001b[0m \u001b[0;34m=\u001b[0m \u001b[0mself\u001b[0m\u001b[0;34m.\u001b[0m\u001b[0membed_positions\u001b[0m\u001b[0;34m(\u001b[0m\u001b[0minput\u001b[0m\u001b[0;34m,\u001b[0m \u001b[0mpast_key_values_length\u001b[0m\u001b[0;34m,\u001b[0m \u001b[0mposition_ids\u001b[0m\u001b[0;34m=\u001b[0m\u001b[0mcache_position\u001b[0m\u001b[0;34m)\u001b[0m\u001b[0;34m\u001b[0m\u001b[0;34m\u001b[0m\u001b[0m\n\u001b[0m\u001b[1;32m   1101\u001b[0m         \u001b[0mpositions\u001b[0m \u001b[0;34m=\u001b[0m \u001b[0mpositions\u001b[0m\u001b[0;34m.\u001b[0m\u001b[0mto\u001b[0m\u001b[0;34m(\u001b[0m\u001b[0minputs_embeds\u001b[0m\u001b[0;34m.\u001b[0m\u001b[0mdevice\u001b[0m\u001b[0;34m)\u001b[0m\u001b[0;34m\u001b[0m\u001b[0;34m\u001b[0m\u001b[0m\n\u001b[1;32m   1102\u001b[0m \u001b[0;34m\u001b[0m\u001b[0m\n",
            "\u001b[0;32m/usr/local/lib/python3.11/dist-packages/torch/nn/modules/module.py\u001b[0m in \u001b[0;36m_wrapped_call_impl\u001b[0;34m(self, *args, **kwargs)\u001b[0m\n\u001b[1;32m   1737\u001b[0m             \u001b[0;32mreturn\u001b[0m \u001b[0mself\u001b[0m\u001b[0;34m.\u001b[0m\u001b[0m_compiled_call_impl\u001b[0m\u001b[0;34m(\u001b[0m\u001b[0;34m*\u001b[0m\u001b[0margs\u001b[0m\u001b[0;34m,\u001b[0m \u001b[0;34m**\u001b[0m\u001b[0mkwargs\u001b[0m\u001b[0;34m)\u001b[0m  \u001b[0;31m# type: ignore[misc]\u001b[0m\u001b[0;34m\u001b[0m\u001b[0;34m\u001b[0m\u001b[0m\n\u001b[1;32m   1738\u001b[0m         \u001b[0;32melse\u001b[0m\u001b[0;34m:\u001b[0m\u001b[0;34m\u001b[0m\u001b[0;34m\u001b[0m\u001b[0m\n\u001b[0;32m-> 1739\u001b[0;31m             \u001b[0;32mreturn\u001b[0m \u001b[0mself\u001b[0m\u001b[0;34m.\u001b[0m\u001b[0m_call_impl\u001b[0m\u001b[0;34m(\u001b[0m\u001b[0;34m*\u001b[0m\u001b[0margs\u001b[0m\u001b[0;34m,\u001b[0m \u001b[0;34m**\u001b[0m\u001b[0mkwargs\u001b[0m\u001b[0;34m)\u001b[0m\u001b[0;34m\u001b[0m\u001b[0;34m\u001b[0m\u001b[0m\n\u001b[0m\u001b[1;32m   1740\u001b[0m \u001b[0;34m\u001b[0m\u001b[0m\n\u001b[1;32m   1741\u001b[0m     \u001b[0;31m# torchrec tests the code consistency with the following code\u001b[0m\u001b[0;34m\u001b[0m\u001b[0;34m\u001b[0m\u001b[0m\n",
            "\u001b[0;32m/usr/local/lib/python3.11/dist-packages/torch/nn/modules/module.py\u001b[0m in \u001b[0;36m_call_impl\u001b[0;34m(self, *args, **kwargs)\u001b[0m\n\u001b[1;32m   1748\u001b[0m                 \u001b[0;32mor\u001b[0m \u001b[0m_global_backward_pre_hooks\u001b[0m \u001b[0;32mor\u001b[0m \u001b[0m_global_backward_hooks\u001b[0m\u001b[0;34m\u001b[0m\u001b[0;34m\u001b[0m\u001b[0m\n\u001b[1;32m   1749\u001b[0m                 or _global_forward_hooks or _global_forward_pre_hooks):\n\u001b[0;32m-> 1750\u001b[0;31m             \u001b[0;32mreturn\u001b[0m \u001b[0mforward_call\u001b[0m\u001b[0;34m(\u001b[0m\u001b[0;34m*\u001b[0m\u001b[0margs\u001b[0m\u001b[0;34m,\u001b[0m \u001b[0;34m**\u001b[0m\u001b[0mkwargs\u001b[0m\u001b[0;34m)\u001b[0m\u001b[0;34m\u001b[0m\u001b[0;34m\u001b[0m\u001b[0m\n\u001b[0m\u001b[1;32m   1751\u001b[0m \u001b[0;34m\u001b[0m\u001b[0m\n\u001b[1;32m   1752\u001b[0m         \u001b[0mresult\u001b[0m \u001b[0;34m=\u001b[0m \u001b[0;32mNone\u001b[0m\u001b[0;34m\u001b[0m\u001b[0;34m\u001b[0m\u001b[0m\n",
            "\u001b[0;32m/usr/local/lib/python3.11/dist-packages/transformers/models/bart/modeling_bart.py\u001b[0m in \u001b[0;36mforward\u001b[0;34m(self, input_ids, past_key_values_length, position_ids)\u001b[0m\n\u001b[1;32m    100\u001b[0m             \u001b[0mposition_ids\u001b[0m \u001b[0;34m=\u001b[0m \u001b[0mposition_ids\u001b[0m\u001b[0;34m.\u001b[0m\u001b[0munsqueeze\u001b[0m\u001b[0;34m(\u001b[0m\u001b[0;36m0\u001b[0m\u001b[0;34m)\u001b[0m\u001b[0;34m\u001b[0m\u001b[0;34m\u001b[0m\u001b[0m\n\u001b[1;32m    101\u001b[0m \u001b[0;34m\u001b[0m\u001b[0m\n\u001b[0;32m--> 102\u001b[0;31m         \u001b[0;32mreturn\u001b[0m \u001b[0msuper\u001b[0m\u001b[0;34m(\u001b[0m\u001b[0;34m)\u001b[0m\u001b[0;34m.\u001b[0m\u001b[0mforward\u001b[0m\u001b[0;34m(\u001b[0m\u001b[0mposition_ids\u001b[0m \u001b[0;34m+\u001b[0m \u001b[0mself\u001b[0m\u001b[0;34m.\u001b[0m\u001b[0moffset\u001b[0m\u001b[0;34m)\u001b[0m\u001b[0;34m\u001b[0m\u001b[0;34m\u001b[0m\u001b[0m\n\u001b[0m\u001b[1;32m    103\u001b[0m \u001b[0;34m\u001b[0m\u001b[0m\n\u001b[1;32m    104\u001b[0m \u001b[0;34m\u001b[0m\u001b[0m\n",
            "\u001b[0;32m/usr/local/lib/python3.11/dist-packages/torch/nn/modules/sparse.py\u001b[0m in \u001b[0;36mforward\u001b[0;34m(self, input)\u001b[0m\n\u001b[1;32m    188\u001b[0m \u001b[0;34m\u001b[0m\u001b[0m\n\u001b[1;32m    189\u001b[0m     \u001b[0;32mdef\u001b[0m \u001b[0mforward\u001b[0m\u001b[0;34m(\u001b[0m\u001b[0mself\u001b[0m\u001b[0;34m,\u001b[0m \u001b[0minput\u001b[0m\u001b[0;34m:\u001b[0m \u001b[0mTensor\u001b[0m\u001b[0;34m)\u001b[0m \u001b[0;34m->\u001b[0m \u001b[0mTensor\u001b[0m\u001b[0;34m:\u001b[0m\u001b[0;34m\u001b[0m\u001b[0;34m\u001b[0m\u001b[0m\n\u001b[0;32m--> 190\u001b[0;31m         return F.embedding(\n\u001b[0m\u001b[1;32m    191\u001b[0m             \u001b[0minput\u001b[0m\u001b[0;34m,\u001b[0m\u001b[0;34m\u001b[0m\u001b[0;34m\u001b[0m\u001b[0m\n\u001b[1;32m    192\u001b[0m             \u001b[0mself\u001b[0m\u001b[0;34m.\u001b[0m\u001b[0mweight\u001b[0m\u001b[0;34m,\u001b[0m\u001b[0;34m\u001b[0m\u001b[0;34m\u001b[0m\u001b[0m\n",
            "\u001b[0;32m/usr/local/lib/python3.11/dist-packages/torch/nn/functional.py\u001b[0m in \u001b[0;36membedding\u001b[0;34m(input, weight, padding_idx, max_norm, norm_type, scale_grad_by_freq, sparse)\u001b[0m\n\u001b[1;32m   2549\u001b[0m         \u001b[0;31m# remove once script supports set_grad_enabled\u001b[0m\u001b[0;34m\u001b[0m\u001b[0;34m\u001b[0m\u001b[0m\n\u001b[1;32m   2550\u001b[0m         \u001b[0m_no_grad_embedding_renorm_\u001b[0m\u001b[0;34m(\u001b[0m\u001b[0mweight\u001b[0m\u001b[0;34m,\u001b[0m \u001b[0minput\u001b[0m\u001b[0;34m,\u001b[0m \u001b[0mmax_norm\u001b[0m\u001b[0;34m,\u001b[0m \u001b[0mnorm_type\u001b[0m\u001b[0;34m)\u001b[0m\u001b[0;34m\u001b[0m\u001b[0;34m\u001b[0m\u001b[0m\n\u001b[0;32m-> 2551\u001b[0;31m     \u001b[0;32mreturn\u001b[0m \u001b[0mtorch\u001b[0m\u001b[0;34m.\u001b[0m\u001b[0membedding\u001b[0m\u001b[0;34m(\u001b[0m\u001b[0mweight\u001b[0m\u001b[0;34m,\u001b[0m \u001b[0minput\u001b[0m\u001b[0;34m,\u001b[0m \u001b[0mpadding_idx\u001b[0m\u001b[0;34m,\u001b[0m \u001b[0mscale_grad_by_freq\u001b[0m\u001b[0;34m,\u001b[0m \u001b[0msparse\u001b[0m\u001b[0;34m)\u001b[0m\u001b[0;34m\u001b[0m\u001b[0;34m\u001b[0m\u001b[0m\n\u001b[0m\u001b[1;32m   2552\u001b[0m \u001b[0;34m\u001b[0m\u001b[0m\n\u001b[1;32m   2553\u001b[0m \u001b[0;34m\u001b[0m\u001b[0m\n",
            "\u001b[0;31mIndexError\u001b[0m: index out of range in self"
          ]
        }
      ],
      "source": [
        "prompt = \"Que es la interoperabilidad bancaria\"\n",
        "rag(retrieve, prompt)"
      ]
    },
    {
      "cell_type": "markdown",
      "metadata": {
        "id": "5YiPCwT5HNbA"
      },
      "source": [
        "--------------------------\n",
        "Fin\n"
      ]
    }
  ],
  "metadata": {
    "colab": {
      "provenance": []
    },
    "kernelspec": {
      "display_name": "Python 3",
      "language": "python",
      "name": "python3"
    },
    "language_info": {
      "codemirror_mode": {
        "name": "ipython",
        "version": 3
      },
      "file_extension": ".py",
      "mimetype": "text/x-python",
      "name": "python",
      "nbconvert_exporter": "python",
      "pygments_lexer": "ipython3",
      "version": "3.11.0"
    }
  },
  "nbformat": 4,
  "nbformat_minor": 0
}
